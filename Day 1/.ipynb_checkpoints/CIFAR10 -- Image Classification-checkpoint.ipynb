{
 "cells": [
  {
   "cell_type": "markdown",
   "metadata": {},
   "source": [
    "# Step 0 -- A bit about CIFAR10\n",
    "\n",
    "The CIFAR-10 dataset consists of 60000 32x32 colour images in 10 classes, with 6000 images per class. There are 50000 training images and 10000 test images. \n",
    "\n",
    "The dataset is divided into five training batches and one test batch, each with 10000 images. The test batch contains exactly 1000 randomly-selected images from each class. The training batches contain the remaining images in random order, but some training batches may contain more images from one class than another. Between them, the training batches contain exactly 5000 images from each class. \t\t\t\t\t\t\t\n"
   ]
  },
  {
   "cell_type": "markdown",
   "metadata": {},
   "source": [
    "# Step 1 -- Getting the data\n",
    "\n",
    "Well we already have it on out Dropbox folder, but you can also alternatively download it by doing the following:"
   ]
  },
  {
   "cell_type": "code",
   "execution_count": 2,
   "metadata": {},
   "outputs": [
    {
     "name": "stderr",
     "output_type": "stream",
     "text": [
      "/Users/tarrysingh/anaconda/lib/python3.6/importlib/_bootstrap.py:205: RuntimeWarning: compiletime version 3.5 of module 'tensorflow.python.framework.fast_tensor_util' does not match runtime version 3.6\n",
      "  return f(*args, **kwds)\n"
     ]
    }
   ],
   "source": [
    "from urllib.request import urlretrieve\n",
    "from os.path import isfile, isdir\n",
    "from tqdm import tqdm\n",
    "import tarfile\n",
    "import utils\n",
    "import unittests as tests"
   ]
  },
  {
   "cell_type": "code",
   "execution_count": 2,
   "metadata": {},
   "outputs": [
    {
     "name": "stdout",
     "output_type": "stream",
     "text": [
      "Collecting tqdm\n",
      "  Downloading tqdm-4.19.5-py2.py3-none-any.whl (51kB)\n",
      "\u001b[K    100% |████████████████████████████████| 61kB 3.4MB/s ta 0:00:01\n",
      "\u001b[?25hInstalling collected packages: tqdm\n",
      "Successfully installed tqdm-4.19.5\n"
     ]
    }
   ],
   "source": [
    "!pip install tqdm"
   ]
  },
  {
   "cell_type": "code",
   "execution_count": 8,
   "metadata": {
    "collapsed": true
   },
   "outputs": [],
   "source": [
    "cifar10_path = 'cifar-10-batches-py'"
   ]
  },
  {
   "cell_type": "code",
   "execution_count": 9,
   "metadata": {
    "collapsed": true
   },
   "outputs": [],
   "source": [
    "class download_progress(tqdm):\n",
    "    last_block = 0\n",
    "    \n",
    "    def hook(self, block_num=1, block_size=1, total_size=None):\n",
    "        self.total = total_size\n",
    "        self.update((block_num - self.last_block) * block_size)\n",
    "        self.last_block = block_num\n",
    "        \n",
    "if not isfile('cifar-10-python.tar.gz'):\n",
    "    with download_progress(unit = 'B', unit_scale=True, miniters=1, desc='CIFAR-10 Dataset') as pbar:\n",
    "        urlretrieve(\n",
    "            'https://www.cs.toronto.edu/~kriz/cifar-10-python.tar.gz',\n",
    "            'cifar-10-python.tar.gz',\n",
    "            pbar.hook)\n",
    "if not isdir(cifar10_path):\n",
    "    with tarfile.open('cifar-10-python.tar.gz') as tar:\n",
    "        tar.extractall()\n",
    "        tar.close()"
   ]
  },
  {
   "cell_type": "markdown",
   "metadata": {},
   "source": [
    "## Exploring the data\n",
    "\n",
    "The dataset is broken into batches to prevent your machine from running out of memory. The CIFAR-10 dataset consists of 5 batches, named data_batch_1, data_batch_2, etc.. Each batch contains the labels and images that are one of the following:\n",
    "- airplane\n",
    "- automobile\n",
    "- bird\n",
    "- cat\n",
    "- deer\n",
    "- dog\n",
    "- frog\n",
    "- horse\n",
    "- ship\n",
    "- truck\n",
    "\n",
    "\n",
    "Understanding a dataset is part of making predictions on the data. Play around with the code cell below by changing the batch_id and sample_id. The batch_id is the id for a batch (1-5). The sample_id is the id for a image and label pair in the batch.\n",
    "\n",
    "Ask yourself \"What are all possible labels?\", \"What is the range of values for the image data?\", \"Are the labels in order or random?\". Answers to questions like these will help you preprocess the data and end up with better predictions."
   ]
  },
  {
   "cell_type": "code",
   "execution_count": 36,
   "metadata": {
    "scrolled": true
   },
   "outputs": [
    {
     "name": "stdout",
     "output_type": "stream",
     "text": [
      "\n",
      "Stats of batch 2:\n",
      "Samples: 10000\n",
      "Label Counts: {0: 984, 1: 1007, 2: 1010, 3: 995, 4: 1010, 5: 988, 6: 1008, 7: 1026, 8: 987, 9: 985}\n",
      "First 20 Labels: [1, 6, 6, 8, 8, 3, 4, 6, 0, 6, 0, 3, 6, 6, 5, 4, 8, 3, 2, 6]\n",
      "\n",
      "Example of Image 4:\n",
      "Image - Min Value: 0 Max Value: 255\n",
      "Image - Shape: (32, 32, 3)\n",
      "Label - Label Id: 8 Name: ship\n"
     ]
    },
    {
     "data": {
      "image/png": "[encoded data removed]",
      "text/plain": [
       "<matplotlib.figure.Figure at 0x127553ba8>"
      ]
     },
     "metadata": {
      "image/png": {
       "height": 250,
       "width": 253
      }
     },
     "output_type": "display_data"
    }
   ],
   "source": [
    "%matplotlib inline\n",
    "%config InlineBackend.figure_format = 'retina'\n",
    "\n",
    "import utils\n",
    "import numpy as np\n",
    "\n",
    "#explore the dataset\n",
    "batch_id = 2\n",
    "sample_id = 4\n",
    "utils.display_stats(cifar10_path, batch_id, sample_id)"
   ]
  },
  {
   "cell_type": "markdown",
   "metadata": {},
   "source": [
    "## Step 2 -- A Bit if Preprocessing \n",
    "\n",
    "#### Step 2.1 -- Normalization\n",
    "\n",
    "In the cell below, implement the normalize function to take in image data, x, and return it as a normalized Numpy array. The values should be in the range of 0 to 1, inclusive. The return object should be the same shape as x."
   ]
  },
  {
   "cell_type": "code",
   "execution_count": 37,
   "metadata": {},
   "outputs": [
    {
     "name": "stdout",
     "output_type": "stream",
     "text": [
      "Tests Passed\n"
     ]
    }
   ],
   "source": [
    "def normalize(x):\n",
    "    \"\"\"\n",
    "    Docstring\n",
    "    : x: List of image data. The image shape being (32, 32, 3)\n",
    "    : return: Numpy array of normalized data\n",
    "    \n",
    "    \n",
    "    \"\"\"\n",
    "    maximum = np.max(x)\n",
    "    minimum = np.min(x)\n",
    "    return (x - minimum) / (maximum - minimum)\n",
    "\n",
    "\"\"\"\n",
    "DOES IT PASS THE TEST?\n",
    "\"\"\"\n",
    "tests.test_normalize(normalize)"
   ]
  },
  {
   "cell_type": "markdown",
   "metadata": {
    "collapsed": true
   },
   "source": [
    "\n",
    "#### Step 2.2 One-hot encode\n",
    "\n",
    "Just like the previous code cell, you'll be implementing a function for preprocessing. This time, you'll implement the one_hot_encode function. The input, x, are a list of labels. Implement the function to return the list of labels as One-Hot encoded Numpy array. The possible values for labels are 0 to 9. The one-hot encoding function should return the same encoding for each value between each call to one_hot_encode. Make sure to save the map of encodings outside the function.\n"
   ]
  },
  {
   "cell_type": "code",
   "execution_count": 38,
   "metadata": {},
   "outputs": [
    {
     "name": "stdout",
     "output_type": "stream",
     "text": [
      "Tests Passed\n"
     ]
    }
   ],
   "source": [
    "def one_hot_encode(x):\n",
    "    \"\"\"\n",
    "    One hot encode a list of sample labels. Return a one-hot encoded vector for each label.\n",
    "    : x: List of sample Labels\n",
    "    : return: Numpy array of one-hot encoded labels\n",
    "    \"\"\"\n",
    "    nx = np.max(x) + 1\n",
    "    return np.eye(nx)[x]\n",
    "\n",
    "\"\"\"\n",
    "DOES IT PASS THE TEST?\n",
    "\"\"\"\n",
    "tests.test_one_hot_encode(one_hot_encode)"
   ]
  },
  {
   "cell_type": "markdown",
   "metadata": {},
   "source": [
    "### Randomize Data\n",
    "\n",
    "As you saw from exploring the data above, the order of the samples are randomized. It doesn't hurt to randomize it again, but you don't need to for this dataset.\n",
    "\n",
    "## Preprocess all the data and save it\n",
    "\n",
    "Running the code cell below will preprocess all the CIFAR-10 data and save it to file. The code below also uses 10% of the training data for validation."
   ]
  },
  {
   "cell_type": "code",
   "execution_count": 39,
   "metadata": {
    "collapsed": true
   },
   "outputs": [],
   "source": [
    "# Preprocess Training, Validation, and Testing Data\n",
    "utils.preprocess_and_save_data(cifar10_path, normalize, one_hot_encode)"
   ]
  },
  {
   "cell_type": "markdown",
   "metadata": {},
   "source": [
    "## Checkpointing\n",
    "\n",
    "This is your first checkpoint. If you ever decide to come back to this notebook or have to restart the notebook, you can start from here. The preprocessed data has been saved to disk.\n",
    "\n",
    "A bit about [pickle](https://docs.python.org/3.6/library/pickle.html)...\n",
    "\n",
    "\n",
    "```python\n",
    "import pickle\n",
    "\n",
    "##### An arbitrary collection of objects supported by pickle.\n",
    "data = {\n",
    "    'a': [1, 2.0, 3, 4+6j],\n",
    "    'b': (\"character string\", b\"byte string\"),\n",
    "    'c': {None, True, False}\n",
    "}\n",
    "\n",
    "with open('data.pickle', 'wb') as f:\n",
    "    # Pickle the 'data' dictionary using the highest protocol available.\n",
    "    pickle.dump(data, f, pickle.HIGHEST_PROTOCOL)\n",
    "```\n",
    "\n",
    "then you load...\n",
    "\n",
    "```python\n",
    "import pickle\n",
    "\n",
    "with open('data.pickle', 'rb') as f:\n",
    "    # The protocol version used is detected automatically, so we do not\n",
    "    # have to specify it.\n",
    "    data = pickle.load(f)\n",
    "```\n"
   ]
  },
  {
   "cell_type": "code",
   "execution_count": 40,
   "metadata": {
    "collapsed": true
   },
   "outputs": [],
   "source": [
    "import pickle\n",
    "\n",
    "# Load the Preprocessed Validation data\n",
    "valid_features, valid_labels = pickle.load(open('preprocess_validation.p', mode='rb'))"
   ]
  },
  {
   "cell_type": "markdown",
   "metadata": {},
   "source": [
    "# Step 2:  Build the network\n",
    "For the neural network, let's build each layer into a function. You don't have to do it this way and can also do it by hand but hopefully this gives you intuitions on how you can programatically do it instead of manual typing stuff.\n",
    "\n",
    "Most of the code you've seen has been outside of functions. To test your code more thoroughly, we require that you put each layer in a function.  This allows us to give you better feedback and test for simple mistakes using our unittests before you submit your project.\n",
    "\n",
    " In the next couple of problems, you'll have the option to use [TensorFlow Layers](https://www.tensorflow.org/api_docs/python/tf/layers) or [TensorFlow Layers (contrib)](https://www.tensorflow.org/api_guides/python/contrib.layers) to build each layer, except \"Convolutional & Max Pooling\" layer.  TF Layers is similar to Keras's and TFLearn's abstraction to layers, so it's easy to pickup.\n",
    "\n",
    "If you would like to get the most of this course, try to solve all the problems without TF Layers.  Let's begin!\n",
    "### Input\n",
    "The neural network needs to read the image data, one-hot encoded labels, and dropout keep probability. Implement the following functions\n",
    "* Implement `neural_net_image_input`\n",
    " * Return a [TF Placeholder](https://www.tensorflow.org/api_docs/python/tf/placeholder)\n",
    " * Set the shape using `image_shape` with batch size set to `None`.\n",
    " * Name the TensorFlow placeholder \"x\" using the TensorFlow `name` parameter in the [TF Placeholder](https://www.tensorflow.org/api_docs/python/tf/placeholder).\n",
    "* Implement `neural_net_label_input`\n",
    " * Return a [TF Placeholder](https://www.tensorflow.org/api_docs/python/tf/placeholder)\n",
    " * Set the shape using `n_classes` with batch size set to `None`.\n",
    " * Name the TensorFlow placeholder \"y\" using the TensorFlow `name` parameter in the [TF Placeholder](https://www.tensorflow.org/api_docs/python/tf/placeholder).\n",
    "* Implement `neural_net_keep_prob_input`\n",
    " * Return a [TF Placeholder](https://www.tensorflow.org/api_docs/python/tf/placeholder) for dropout keep probability.\n",
    " * Name the TensorFlow placeholder \"keep_prob\" using the TensorFlow `name` parameter in the [TF Placeholder](https://www.tensorflow.org/api_docs/python/tf/placeholder).\n",
    "\n",
    "These names will be used at the end of the project to load your saved model.\n",
    "\n",
    "Note: `None` for shapes in TensorFlow allow for a dynamic size."
   ]
  },
  {
   "cell_type": "code",
   "execution_count": 41,
   "metadata": {},
   "outputs": [
    {
     "name": "stdout",
     "output_type": "stream",
     "text": [
      "Image Input Tests Passed.\n",
      "Label Input Tests Passed.\n",
      "Keep Prob Tests Passed.\n"
     ]
    }
   ],
   "source": [
    "import tensorflow as tf\n",
    "\n",
    "def neural_net_image_input(image_shape):\n",
    "    \"\"\"\n",
    "    Return a Tensor for a bach of image input\n",
    "    : image_shape: Shape of the images\n",
    "    : return: Tensor for image input.\n",
    "    \"\"\"\n",
    "    return tf.placeholder(\n",
    "        tf.float32,\n",
    "        [None, image_shape[0], image_shape[1], 3],\n",
    "        name='x'\n",
    "    )\n",
    "\n",
    "\n",
    "def neural_net_label_input(n_classes):\n",
    "    \"\"\"\n",
    "    Return a Tensor for a batch of label input\n",
    "    : n_classes: Number of classes\n",
    "    : return: Tensor for label input.\n",
    "    \"\"\"\n",
    "    return tf.placeholder(\n",
    "        tf.float32,\n",
    "        [None, n_classes],\n",
    "        name='y'\n",
    "    )\n",
    "\n",
    "\n",
    "def neural_net_keep_prob_input():\n",
    "    \"\"\"\n",
    "    Return a Tensor for keep probability\n",
    "    : return: Tensor for keep probability.\n",
    "    \"\"\"\n",
    "    return tf.placeholder(tf.float32, name='keep_prob')\n",
    "\n",
    "#RESET GRAPH -- If you fire up this cell, it will automagically reset the computational graph\n",
    "tf.reset_default_graph()\n",
    "\n",
    "\"\"\"\n",
    "DOES IT PASS THE TEST?\n",
    "\"\"\"\n",
    "tests.test_nn_image_inputs(neural_net_image_input)\n",
    "tests.test_nn_label_inputs(neural_net_label_input)\n",
    "tests.test_nn_keep_prob_inputs(neural_net_keep_prob_input)"
   ]
  },
  {
   "cell_type": "markdown",
   "metadata": {},
   "source": [
    "### Convolution and Max Pooling Layer\n",
    "Convolution layers have a lot of success with images. For this code cell, you should implement the function `conv2d_maxpool` to apply convolution then max pooling:\n",
    "* Create the weight and bias using `conv_ksize`, `conv_num_outputs` and the shape of `x_tensor`.\n",
    "* Apply a convolution to `x_tensor` using weight and `conv_strides`.\n",
    " * We recommend you use same padding, but you're welcome to use any padding.\n",
    "* Add bias\n",
    "* Add a nonlinear activation to the convolution.\n",
    "* Apply Max Pooling using `pool_ksize` and `pool_strides`.\n",
    " * We recommend you use same padding, but you're welcome to use any padding.\n",
    "\n",
    "Note: You **can't** use [TensorFlow Layers](https://www.tensorflow.org/api_docs/python/tf/layers) or [TensorFlow Layers (contrib)](https://www.tensorflow.org/api_guides/python/contrib.layers) for this layer.  You're free to use any TensorFlow package for all the other layers."
   ]
  },
  {
   "cell_type": "code",
   "execution_count": 42,
   "metadata": {},
   "outputs": [
    {
     "name": "stdout",
     "output_type": "stream",
     "text": [
      "Tests Passed\n"
     ]
    }
   ],
   "source": [
    "def conv2d_maxpool(x_tensor, conv_num_outputs, conv_ksize, conv_strides, pool_ksize, pool_strides):\n",
    "    \"\"\"\n",
    "    Apply convolution then max pooling to x_tensor\n",
    "    :param x_tensor: TensorFlow Tensor\n",
    "    :param conv_num_outputs: Number of outputs for the convolutional layer\n",
    "    :param conv_strides: Stride 2-D Tuple for convolution\n",
    "    :param pool_ksize: kernal size 2-D Tuple for pool\n",
    "    :param pool_strides: Stride 2-D Tuple for pool\n",
    "    : return: A tensor that represents convolution and max pooling of x_tensor\n",
    "    \"\"\"\n",
    "    # Tensorflow has the crappiest API I've ever seen\n",
    "    input_depth = x_tensor.get_shape().as_list()[-1]\n",
    "    W = tf.Variable(tf.random_normal(\n",
    "        [conv_ksize[0], conv_ksize[1], input_depth, conv_num_outputs],\n",
    "        stddev=0.1\n",
    "    ))\n",
    "    b = tf.Variable(tf.zeros(conv_num_outputs))\n",
    "    conv = tf.nn.conv2d(x_tensor, W, [1, conv_strides[0], conv_strides[1], 1], 'SAME') + b\n",
    "    conv = tf.nn.relu(conv)\n",
    "    return tf.nn.max_pool(\n",
    "        conv,\n",
    "        [1, pool_ksize[0], pool_ksize[1], 1],\n",
    "        [1, pool_strides[0], pool_strides[1], 1],\n",
    "        'SAME'\n",
    "    )\n",
    "\n",
    "\"\"\"\n",
    "DOES IT PASS THE TEST?\n",
    "\"\"\"\n",
    "\n",
    "tests.test_con_pool(conv2d_maxpool)"
   ]
  },
  {
   "cell_type": "markdown",
   "metadata": {},
   "source": [
    "### Flatten Layer\n",
    "Implement the `flatten` function to change the dimension of `x_tensor` from a 4-D tensor to a 2-D tensor.  The output should be the shape (*Batch Size*, *Flattened Image Size*). You can use [TensorFlow Layers](https://www.tensorflow.org/api_docs/python/tf/layers) or [TensorFlow Layers (contrib)](https://www.tensorflow.org/api_guides/python/contrib.layers) for this layer."
   ]
  },
  {
   "cell_type": "code",
   "execution_count": 43,
   "metadata": {},
   "outputs": [
    {
     "name": "stdout",
     "output_type": "stream",
     "text": [
      "Tests Passed\n"
     ]
    }
   ],
   "source": [
    "def flatten(x_tensor):\n",
    "    \"\"\"\n",
    "    Flatten x_tensor to (Batch Size, Flattened Image Size)\n",
    "    : x_tensor: A tensor of size (Batch Size, ...), where ... are the image dimensions.\n",
    "    : return: A tensor of size (Batch Size, Flattened Image Size).\n",
    "    \"\"\"\n",
    "    shape = x_tensor.get_shape().as_list()\n",
    "    # Again, tensorflow is simply ridiculous. I receive a dimension with None but\n",
    "    # can't pass it along? WTF?!\n",
    "    return tf.reshape(x_tensor, [-1, np.prod(shape[1:])])\n",
    "\n",
    "\"\"\"\n",
    "DOES IT PASS THE TEST?\n",
    "\"\"\"\n",
    "tests.test_flatten(flatten)"
   ]
  },
  {
   "cell_type": "markdown",
   "metadata": {},
   "source": [
    "### Fully-Connected Layer\n",
    "Implement the `fully_conn` function to apply a fully connected layer to `x_tensor` with the shape (*Batch Size*, *num_outputs*). You can use [TensorFlow Layers](https://www.tensorflow.org/api_docs/python/tf/layers) or [TensorFlow Layers (contrib)](https://www.tensorflow.org/api_guides/python/contrib.layers) for this layer."
   ]
  },
  {
   "cell_type": "code",
   "execution_count": 44,
   "metadata": {},
   "outputs": [
    {
     "name": "stdout",
     "output_type": "stream",
     "text": [
      "Tests Passed\n"
     ]
    }
   ],
   "source": [
    "def fully_conn(x_tensor, num_outputs):\n",
    "    \"\"\"\n",
    "    Apply a fully connected layer to x_tensor using weight and bias\n",
    "    : x_tensor: A 2-D tensor where the first dimension is batch size.\n",
    "    : num_outputs: The number of output that the new tensor should be.\n",
    "    : return: A 2-D tensor where the second dimension is num_outputs.\n",
    "    \"\"\"\n",
    "    shape = x_tensor.get_shape().as_list()\n",
    "    W = tf.Variable(tf.random_normal([shape[-1], num_outputs], stddev=0.1))\n",
    "    b = tf.Variable(tf.zeros(num_outputs)) + 0.11\n",
    "    return tf.nn.relu(tf.add(tf.matmul(x_tensor, W), b))\n",
    "\n",
    "\n",
    "\"\"\"\n",
    "DOES IT PASS THE TEST?\n",
    "\"\"\"\n",
    "tests.test_fully_conn(fully_conn)"
   ]
  },
  {
   "cell_type": "markdown",
   "metadata": {},
   "source": [
    "### Output Layer\n",
    "Implement the `output` function to apply a fully connected layer to `x_tensor` with the shape (*Batch Size*, *num_outputs*). You can use [TensorFlow Layers](https://www.tensorflow.org/api_docs/python/tf/layers) or [TensorFlow Layers (contrib)](https://www.tensorflow.org/api_guides/python/contrib.layers) for this layer.\n",
    "\n",
    "Note: Activation, softmax, or cross entropy shouldn't be applied to this."
   ]
  },
  {
   "cell_type": "code",
   "execution_count": 45,
   "metadata": {},
   "outputs": [
    {
     "name": "stdout",
     "output_type": "stream",
     "text": [
      "Tests Passed\n"
     ]
    }
   ],
   "source": [
    "def output(x_tensor, num_outputs):\n",
    "    \"\"\"\n",
    "    Apply a output layer to x_tensor using weight and bias\n",
    "    : x_tensor: A 2-D tensor where the first dimension is batch size.\n",
    "    : num_outputs: The number of output that the new tensor should be.\n",
    "    : return: A 2-D tensor where the second dimension is num_outputs.\n",
    "    \"\"\"\n",
    "    shape = x_tensor.get_shape().as_list()\n",
    "    W = tf.Variable(tf.random_normal([shape[-1], num_outputs]))\n",
    "    b = tf.Variable(tf.zeros(num_outputs))\n",
    "    return tf.add(tf.matmul(x_tensor, W), b)\n",
    "\n",
    "\n",
    "\"\"\"\n",
    "DOES IT PASS THE TEST?\n",
    "\"\"\"\n",
    "tests.test_output(output)"
   ]
  },
  {
   "cell_type": "markdown",
   "metadata": {},
   "source": [
    "### Create Convolutional Model\n",
    "Implement the function `conv_net` to create a convolutional neural network model. The function takes in a batch of images, `x`, and outputs logits.  Use the layers you created above to create this model:\n",
    "\n",
    "* Apply 1, 2, or 3 Convolution and Max Pool layers\n",
    "* Apply a Flatten Layer\n",
    "* Apply 1, 2, or 3 Fully Connected Layers\n",
    "* Apply an Output Layer\n",
    "* Return the output\n",
    "* Apply [TensorFlow's Dropout](https://www.tensorflow.org/api_docs/python/tf/nn/dropout) to one or more layers in the model using `keep_prob`. \n",
    "\n",
    "A bit more about [dropout](https://www.cs.toronto.edu/~hinton/absps/JMLRdropout.pdf)"
   ]
  },
  {
   "cell_type": "code",
   "execution_count": 46,
   "metadata": {},
   "outputs": [
    {
     "name": "stdout",
     "output_type": "stream",
     "text": [
      "Neural Network Built!\n"
     ]
    }
   ],
   "source": [
    "def conv_net(x, keep_prob):\n",
    "    \"\"\"\n",
    "    Create a convolutional neural network model\n",
    "    : x: Placeholder tensor that holds image data.\n",
    "    : keep_prob: Placeholder tensor that hold dropout keep probability.\n",
    "    : return: Tensor that represents logits\n",
    "    \"\"\"\n",
    "\n",
    "    # TODO: Apply 1, 2, or 3 Convolution and Max Pool layers\n",
    "    #    Play around with different number of outputs, kernel size and stride\n",
    "    # Function Definition from Above:\n",
    "    #    conv2d_maxpool(x_tensor, conv_num_outputs, conv_ksize, conv_strides, pool_ksize, pool_strides)\n",
    "    tmp = conv2d_maxpool(x, 64, [3, 3], [1, 1], [3, 3], [2, 2])\n",
    "    tf.nn.dropout(tmp, keep_prob=keep_prob)\n",
    "    #tmp = conv2d_maxpool(tmp, 64, [5, 5], [1, 1], [3, 3], [2, 2])\n",
    "    #tf.nn.dropout(tmp, keep_prob=keep_prob)\n",
    "    #tmp = conv2d_maxpool(tmp, 64, [3, 3], [1, 1], [2, 2], [2, 2])\n",
    "    #tf.nn.dropout(tmp, keep_prob=keep_prob)\n",
    "\n",
    "    # TODO: Apply a Flatten Layer\n",
    "    # Function Definition from Above:\n",
    "    tmp = flatten(tmp)\n",
    "\n",
    "    # TODO: Apply 1, 2, or 3 Fully Connected Layers\n",
    "    #    Play around with different number of outputs\n",
    "    # Function Definition from Above:\n",
    "    #   fully_conn(x_tensor, num_outputs)\n",
    "    tmp = fully_conn(tmp, 384)\n",
    "    tf.nn.dropout(tmp, keep_prob=keep_prob)\n",
    "    tmp = fully_conn(tmp, 192)\n",
    "    tf.nn.dropout(tmp, keep_prob=keep_prob)\n",
    "    #tmp = fully_conn(tmp, 256)\n",
    "    #tf.nn.dropout(tmp, keep_prob=keep_prob)\n",
    "    \n",
    "    \n",
    "    # TODO: Apply an Output Layer\n",
    "    #    Set this to the number of classes\n",
    "    # Function Definition from Above:\n",
    "    #   output(x_tensor, num_outputs)\n",
    "    \n",
    "    \n",
    "    # TODO: return output\n",
    "    return output(tmp, 10)\n",
    "\n",
    "\n",
    "\"\"\"\n",
    "DON'T MODIFY ANYTHING IN THIS CELL THAT IS BELOW THIS LINE\n",
    "\"\"\"\n",
    "\n",
    "##############################\n",
    "## Build the Neural Network ##\n",
    "##############################\n",
    "\n",
    "# Remove previous weights, bias, inputs, etc..\n",
    "tf.reset_default_graph()\n",
    "\n",
    "# Inputs\n",
    "x = neural_net_image_input((32, 32, 3))\n",
    "y = neural_net_label_input(10)\n",
    "keep_prob = neural_net_keep_prob_input()\n",
    "\n",
    "# Model\n",
    "logits = conv_net(x, keep_prob)\n",
    "\n",
    "# Name logits Tensor, so that is can be loaded from disk after training\n",
    "logits = tf.identity(logits, name='logits')\n",
    "\n",
    "# Loss and Optimizer\n",
    "cost = tf.reduce_mean(tf.nn.softmax_cross_entropy_with_logits(logits=logits, labels=y))\n",
    "optimizer = tf.train.AdamOptimizer().minimize(cost)\n",
    "\n",
    "# Accuracy\n",
    "correct_pred = tf.equal(tf.argmax(logits, 1), tf.argmax(y, 1))\n",
    "accuracy = tf.reduce_mean(tf.cast(correct_pred, tf.float32), name='accuracy')\n",
    "\n",
    "tests.test_conv_net(conv_net)"
   ]
  },
  {
   "cell_type": "markdown",
   "metadata": {},
   "source": [
    "# Step 3:  Train the Neural Network\n",
    "\n",
    "### Single Optimization\n",
    "Implement the function `train_neural_network` to do a single optimization.  The optimization should use `optimizer` to optimize in `session` with a `feed_dict` of the following:\n",
    "* `x` for image input\n",
    "* `y` for labels\n",
    "* `keep_prob` for keep probability for dropout\n",
    "\n",
    "This function will be called for each batch, so `tf.global_variables_initializer()` has already been called.\n",
    "\n",
    "Note: Nothing needs to be returned. This function is only optimizing the neural network."
   ]
  },
  {
   "cell_type": "code",
   "execution_count": 47,
   "metadata": {},
   "outputs": [
    {
     "name": "stdout",
     "output_type": "stream",
     "text": [
      "Tests Passed\n"
     ]
    }
   ],
   "source": [
    "def train_neural_network(session, optimizer, keep_probability, feature_batch, label_batch):\n",
    "    \"\"\"\n",
    "    Optimize the session on a batch of images and labels\n",
    "    : session: Current TensorFlow session\n",
    "    : optimizer: TensorFlow optimizer function\n",
    "    : keep_probability: keep probability\n",
    "    : feature_batch: Batch of Numpy image data\n",
    "    : label_batch: Batch of Numpy label data\n",
    "    \"\"\"\n",
    "    session.run(optimizer, feed_dict={x: feature_batch, y: label_batch, keep_prob: keep_probability})\n",
    "\n",
    "\n",
    "\"\"\"\n",
    "DOES IT PASS THE TEST?\n",
    "\"\"\"\n",
    "tests.test_train_nn(train_neural_network)"
   ]
  },
  {
   "cell_type": "markdown",
   "metadata": {},
   "source": [
    "### Show Stats\n",
    "Implement the function `print_stats` to print loss and validation accuracy.  Use the global variables `valid_features` and `valid_labels` to calculate validation accuracy.  Use a keep probability of `1.0` to calculate the loss and validation accuracy."
   ]
  },
  {
   "cell_type": "code",
   "execution_count": 48,
   "metadata": {
    "collapsed": true
   },
   "outputs": [],
   "source": [
    "def print_stats(session, feature_batch, label_batch, cost, accuracy):\n",
    "    \"\"\"\n",
    "    Print information about loss and validation accuracy\n",
    "    : session: Current TensorFlow session\n",
    "    : feature_batch: Batch of Numpy image data\n",
    "    : label_batch: Batch of Numpy label data\n",
    "    : cost: TensorFlow cost function\n",
    "    : accuracy: TensorFlow accuracy function\n",
    "    \"\"\"\n",
    "    global valid_features, valid_labels\n",
    "    validation_accuracy = session.run(\n",
    "        accuracy,\n",
    "        feed_dict={\n",
    "            x: valid_features,\n",
    "            y: valid_labels,\n",
    "            keep_prob: 1.0,\n",
    "        }\n",
    "    )\n",
    "    cost = session.run(\n",
    "        cost,\n",
    "        feed_dict={\n",
    "            x: feature_batch,\n",
    "            y: label_batch,\n",
    "            keep_prob: 1.0,\n",
    "        }\n",
    "    )\n",
    "    print('Cost = {0} - Validation Accuracy = {1}'.format(cost, validation_accuracy))"
   ]
  },
  {
   "cell_type": "markdown",
   "metadata": {},
   "source": [
    "### Hyperparameters\n",
    "Tune the following parameters:\n",
    "* Set `epochs` to the number of iterations until the network stops learning or start overfitting\n",
    "* Set `batch_size` to the highest number that your machine has memory for.  Most people set them to common sizes of memory:\n",
    " * 64\n",
    " * 128\n",
    " * 256\n",
    " * ...\n",
    "* Set `keep_probability` to the probability of keeping a node using dropout"
   ]
  },
  {
   "cell_type": "code",
   "execution_count": 49,
   "metadata": {
    "collapsed": true
   },
   "outputs": [],
   "source": [
    "# TODO: Tune Parameters\n",
    "epochs = 50\n",
    "batch_size = 1024\n",
    "keep_probability = 0.5"
   ]
  },
  {
   "cell_type": "markdown",
   "metadata": {},
   "source": [
    "### Train on a Single CIFAR-10 Batch\n",
    "Instead of training the neural network on all the CIFAR-10 batches of data, let's use a single batch. This should save time while you iterate on the model to get a better accuracy.  Once the final validation accuracy is 50% or greater, run the model on all the data in the next section."
   ]
  },
  {
   "cell_type": "code",
   "execution_count": null,
   "metadata": {},
   "outputs": [
    {
     "name": "stdout",
     "output_type": "stream",
     "text": [
      "Checking the Training on a Single Batch...\n",
      "Epoch  1, CIFAR-10 Batch 1:  Cost = 67.33641815185547 - Validation Accuracy = 0.10740000009536743\n",
      "Epoch  2, CIFAR-10 Batch 1:  Cost = 17.83379364013672 - Validation Accuracy = 0.1462000012397766\n",
      "Epoch  3, CIFAR-10 Batch 1:  Cost = 8.421168327331543 - Validation Accuracy = 0.10840000212192535\n",
      "Epoch  4, CIFAR-10 Batch 1:  Cost = 3.9113659858703613 - Validation Accuracy = 0.19419999420642853\n",
      "Epoch  5, CIFAR-10 Batch 1:  Cost = 3.1332409381866455 - Validation Accuracy = 0.22139999270439148\n"
     ]
    }
   ],
   "source": [
    "print('Checking the Training on a Single Batch...')\n",
    "with tf.Session() as sess:\n",
    "    # Initializing the variables\n",
    "    sess.run(tf.global_variables_initializer())\n",
    "    \n",
    "    # Training cycle\n",
    "    for epoch in range(epochs):\n",
    "        batch_i = 1\n",
    "        for batch_features, batch_labels in utils.load_preprocess_training_batch(batch_i, batch_size):\n",
    "            train_neural_network(sess, optimizer, keep_probability, batch_features, batch_labels)\n",
    "        print('Epoch {:>2}, CIFAR-10 Batch {}:  '.format(epoch + 1, batch_i), end='')\n",
    "        print_stats(sess, batch_features, batch_labels, cost, accuracy)"
   ]
  },
  {
   "cell_type": "markdown",
   "metadata": {},
   "source": [
    "### Fully Train the Model\n",
    "Now that you got a good accuracy with a single CIFAR-10 batch, try it with all five batches."
   ]
  },
  {
   "cell_type": "code",
   "execution_count": 30,
   "metadata": {},
   "outputs": [
    {
     "name": "stdout",
     "output_type": "stream",
     "text": [
      "Training...\n",
      "Epoch  1, CIFAR-10 Batch 1:  Cost = 26.9760684967041 - Validation Accuracy = 0.1695999950170517\n",
      "Epoch  1, CIFAR-10 Batch 2:  Cost = 8.288256645202637 - Validation Accuracy = 0.16099999845027924\n",
      "Epoch  1, CIFAR-10 Batch 3:  Cost = 5.376868724822998 - Validation Accuracy = 0.1932000070810318\n",
      "Epoch  1, CIFAR-10 Batch 4:  Cost = 3.1707074642181396 - Validation Accuracy = 0.24379999935626984\n",
      "Epoch  1, CIFAR-10 Batch 5:  Cost = 2.66068434715271 - Validation Accuracy = 0.2786000072956085\n",
      "Epoch  2, CIFAR-10 Batch 1:  Cost = 2.3829269409179688 - Validation Accuracy = 0.32899999618530273\n",
      "Epoch  2, CIFAR-10 Batch 2:  Cost = 2.1436047554016113 - Validation Accuracy = 0.3546000123023987\n",
      "Epoch  2, CIFAR-10 Batch 3:  Cost = 1.8645529747009277 - Validation Accuracy = 0.3962000012397766\n",
      "Epoch  2, CIFAR-10 Batch 4:  Cost = 1.7105334997177124 - Validation Accuracy = 0.4156000018119812\n",
      "Epoch  2, CIFAR-10 Batch 5:  Cost = 1.7065776586532593 - Validation Accuracy = 0.4311999976634979\n",
      "Epoch  3, CIFAR-10 Batch 1:  Cost = 1.5914899110794067 - Validation Accuracy = 0.45179998874664307\n",
      "Epoch  3, CIFAR-10 Batch 2:  Cost = 1.5500261783599854 - Validation Accuracy = 0.4652000069618225\n",
      "Epoch  3, CIFAR-10 Batch 3:  Cost = 1.4210721254348755 - Validation Accuracy = 0.4790000021457672\n",
      "Epoch  3, CIFAR-10 Batch 4:  Cost = 1.3138461112976074 - Validation Accuracy = 0.4880000054836273\n",
      "Epoch  3, CIFAR-10 Batch 5:  Cost = 1.3323131799697876 - Validation Accuracy = 0.48739999532699585\n",
      "Epoch  4, CIFAR-10 Batch 1:  Cost = 1.2983744144439697 - Validation Accuracy = 0.5055999755859375\n",
      "Epoch  4, CIFAR-10 Batch 2:  Cost = 1.308933973312378 - Validation Accuracy = 0.5130000114440918\n",
      "Epoch  4, CIFAR-10 Batch 3:  Cost = 1.204652190208435 - Validation Accuracy = 0.5217999815940857\n",
      "Epoch  4, CIFAR-10 Batch 4:  Cost = 1.1244508028030396 - Validation Accuracy = 0.5325999855995178\n",
      "Epoch  4, CIFAR-10 Batch 5:  Cost = 1.129801869392395 - Validation Accuracy = 0.5289999842643738\n",
      "Epoch  5, CIFAR-10 Batch 1:  Cost = 1.1423375606536865 - Validation Accuracy = 0.5397999882698059\n",
      "Epoch  5, CIFAR-10 Batch 2:  Cost = 1.164961338043213 - Validation Accuracy = 0.5483999848365784\n",
      "Epoch  5, CIFAR-10 Batch 3:  Cost = 1.0488840341567993 - Validation Accuracy = 0.5519999861717224\n",
      "Epoch  5, CIFAR-10 Batch 4:  Cost = 0.9883295893669128 - Validation Accuracy = 0.5527999997138977\n",
      "Epoch  5, CIFAR-10 Batch 5:  Cost = 1.0097854137420654 - Validation Accuracy = 0.5454000234603882\n",
      "Epoch  6, CIFAR-10 Batch 1:  Cost = 1.0361250638961792 - Validation Accuracy = 0.5577999949455261\n",
      "Epoch  6, CIFAR-10 Batch 2:  Cost = 1.0562037229537964 - Validation Accuracy = 0.5587999820709229\n",
      "Epoch  6, CIFAR-10 Batch 3:  Cost = 0.9293631315231323 - Validation Accuracy = 0.5667999982833862\n",
      "Epoch  6, CIFAR-10 Batch 4:  Cost = 0.8779003024101257 - Validation Accuracy = 0.5630000233650208\n",
      "Epoch  6, CIFAR-10 Batch 5:  Cost = 0.8985045552253723 - Validation Accuracy = 0.5631999969482422\n",
      "Epoch  7, CIFAR-10 Batch 1:  Cost = 0.9343804717063904 - Validation Accuracy = 0.5734000205993652\n",
      "Epoch  7, CIFAR-10 Batch 2:  Cost = 0.9482663869857788 - Validation Accuracy = 0.5723999738693237\n",
      "Epoch  7, CIFAR-10 Batch 3:  Cost = 0.8363304734230042 - Validation Accuracy = 0.5821999907493591\n",
      "Epoch  7, CIFAR-10 Batch 4:  Cost = 0.8106161952018738 - Validation Accuracy = 0.5708000063896179\n",
      "Epoch  7, CIFAR-10 Batch 5:  Cost = 0.8120707273483276 - Validation Accuracy = 0.5785999894142151\n",
      "Epoch  8, CIFAR-10 Batch 1:  Cost = 0.840013325214386 - Validation Accuracy = 0.5881999731063843\n",
      "Epoch  8, CIFAR-10 Batch 2:  Cost = 0.8497744798660278 - Validation Accuracy = 0.5852000117301941\n",
      "Epoch  8, CIFAR-10 Batch 3:  Cost = 0.7840285897254944 - Validation Accuracy = 0.5863999724388123\n",
      "Epoch  8, CIFAR-10 Batch 4:  Cost = 0.7283684611320496 - Validation Accuracy = 0.5871999859809875\n",
      "Epoch  8, CIFAR-10 Batch 5:  Cost = 0.7177462577819824 - Validation Accuracy = 0.5896000266075134\n",
      "Epoch  9, CIFAR-10 Batch 1:  Cost = 0.7716558575630188 - Validation Accuracy = 0.5906000137329102\n",
      "Epoch  9, CIFAR-10 Batch 2:  Cost = 0.7911462187767029 - Validation Accuracy = 0.5878000259399414\n",
      "Epoch  9, CIFAR-10 Batch 3:  Cost = 0.7209674119949341 - Validation Accuracy = 0.5956000089645386\n",
      "Epoch  9, CIFAR-10 Batch 4:  Cost = 0.6670166850090027 - Validation Accuracy = 0.6037999987602234\n",
      "Epoch  9, CIFAR-10 Batch 5:  Cost = 0.6513032913208008 - Validation Accuracy = 0.6001999974250793\n",
      "Epoch 10, CIFAR-10 Batch 1:  Cost = 0.7115100622177124 - Validation Accuracy = 0.5879999995231628\n",
      "Epoch 10, CIFAR-10 Batch 2:  Cost = 0.7024499773979187 - Validation Accuracy = 0.6021999716758728\n",
      "Epoch 10, CIFAR-10 Batch 3:  Cost = 0.652183473110199 - Validation Accuracy = 0.6055999994277954\n",
      "Epoch 10, CIFAR-10 Batch 4:  Cost = 0.6321611404418945 - Validation Accuracy = 0.597599983215332\n",
      "Epoch 10, CIFAR-10 Batch 5:  Cost = 0.586404025554657 - Validation Accuracy = 0.6123999953269958\n",
      "Epoch 11, CIFAR-10 Batch 1:  Cost = 0.6581876873970032 - Validation Accuracy = 0.5989999771118164\n",
      "Epoch 11, CIFAR-10 Batch 2:  Cost = 0.6492018699645996 - Validation Accuracy = 0.607200026512146\n",
      "Epoch 11, CIFAR-10 Batch 3:  Cost = 0.5832659602165222 - Validation Accuracy = 0.6122000217437744\n",
      "Epoch 11, CIFAR-10 Batch 4:  Cost = 0.5900073051452637 - Validation Accuracy = 0.602400004863739\n",
      "Epoch 11, CIFAR-10 Batch 5:  Cost = 0.5380561947822571 - Validation Accuracy = 0.614799976348877\n",
      "Epoch 12, CIFAR-10 Batch 1:  Cost = 0.6116023659706116 - Validation Accuracy = 0.6046000123023987\n",
      "Epoch 12, CIFAR-10 Batch 2:  Cost = 0.6203363537788391 - Validation Accuracy = 0.5953999757766724\n",
      "Epoch 12, CIFAR-10 Batch 3:  Cost = 0.5596651434898376 - Validation Accuracy = 0.6064000129699707\n",
      "Epoch 12, CIFAR-10 Batch 4:  Cost = 0.5236492156982422 - Validation Accuracy = 0.6123999953269958\n",
      "Epoch 12, CIFAR-10 Batch 5:  Cost = 0.5300959348678589 - Validation Accuracy = 0.6096000075340271\n",
      "Epoch 13, CIFAR-10 Batch 1:  Cost = 0.5916810035705566 - Validation Accuracy = 0.6065999865531921\n",
      "Epoch 13, CIFAR-10 Batch 2:  Cost = 0.6885075569152832 - Validation Accuracy = 0.5569999814033508\n",
      "Epoch 13, CIFAR-10 Batch 3:  Cost = 0.5832424163818359 - Validation Accuracy = 0.590399980545044\n",
      "Epoch 13, CIFAR-10 Batch 4:  Cost = 0.5579942464828491 - Validation Accuracy = 0.5861999988555908\n",
      "Epoch 13, CIFAR-10 Batch 5:  Cost = 0.5542064905166626 - Validation Accuracy = 0.6033999919891357\n",
      "Epoch 14, CIFAR-10 Batch 1:  Cost = 0.5846425294876099 - Validation Accuracy = 0.6018000245094299\n",
      "Epoch 14, CIFAR-10 Batch 2:  Cost = 0.5397598147392273 - Validation Accuracy = 0.6110000014305115\n",
      "Epoch 14, CIFAR-10 Batch 3:  Cost = 0.48749807476997375 - Validation Accuracy = 0.605400025844574\n",
      "Epoch 14, CIFAR-10 Batch 4:  Cost = 0.47360262274742126 - Validation Accuracy = 0.6011999845504761\n",
      "Epoch 14, CIFAR-10 Batch 5:  Cost = 0.47678279876708984 - Validation Accuracy = 0.6033999919891357\n",
      "Epoch 15, CIFAR-10 Batch 1:  Cost = 0.5632802248001099 - Validation Accuracy = 0.6033999919891357\n",
      "Epoch 15, CIFAR-10 Batch 2:  Cost = 0.5029372572898865 - Validation Accuracy = 0.5983999967575073\n",
      "Epoch 15, CIFAR-10 Batch 3:  Cost = 0.4462093710899353 - Validation Accuracy = 0.6043999791145325\n",
      "Epoch 15, CIFAR-10 Batch 4:  Cost = 0.45118653774261475 - Validation Accuracy = 0.6001999974250793\n",
      "Epoch 15, CIFAR-10 Batch 5:  Cost = 0.43760764598846436 - Validation Accuracy = 0.6093999743461609\n",
      "Epoch 16, CIFAR-10 Batch 1:  Cost = 0.4803904592990875 - Validation Accuracy = 0.6190000176429749\n",
      "Epoch 16, CIFAR-10 Batch 2:  Cost = 0.44693422317504883 - Validation Accuracy = 0.6151999831199646\n",
      "Epoch 16, CIFAR-10 Batch 3:  Cost = 0.44050726294517517 - Validation Accuracy = 0.6028000116348267\n",
      "Epoch 16, CIFAR-10 Batch 4:  Cost = 0.40059706568717957 - Validation Accuracy = 0.6115999817848206\n",
      "Epoch 16, CIFAR-10 Batch 5:  Cost = 0.4253252148628235 - Validation Accuracy = 0.6093999743461609\n",
      "Epoch 17, CIFAR-10 Batch 1:  Cost = 0.45990437269210815 - Validation Accuracy = 0.6179999709129333\n",
      "Epoch 17, CIFAR-10 Batch 2:  Cost = 0.44099515676498413 - Validation Accuracy = 0.6126000285148621\n",
      "Epoch 17, CIFAR-10 Batch 3:  Cost = 0.4406823515892029 - Validation Accuracy = 0.597599983215332\n",
      "Epoch 17, CIFAR-10 Batch 4:  Cost = 0.4085603952407837 - Validation Accuracy = 0.6014000177383423\n"
     ]
    },
    {
     "name": "stdout",
     "output_type": "stream",
     "text": [
      "Epoch 17, CIFAR-10 Batch 5:  Cost = 0.4119682013988495 - Validation Accuracy = 0.6096000075340271\n",
      "Epoch 18, CIFAR-10 Batch 1:  Cost = 0.47756797075271606 - Validation Accuracy = 0.6037999987602234\n",
      "Epoch 18, CIFAR-10 Batch 2:  Cost = 0.386223167181015 - Validation Accuracy = 0.6126000285148621\n",
      "Epoch 18, CIFAR-10 Batch 3:  Cost = 0.35806673765182495 - Validation Accuracy = 0.623199999332428\n",
      "Epoch 18, CIFAR-10 Batch 4:  Cost = 0.3975534439086914 - Validation Accuracy = 0.597000002861023\n",
      "Epoch 18, CIFAR-10 Batch 5:  Cost = 0.37535080313682556 - Validation Accuracy = 0.6133999824523926\n",
      "Epoch 19, CIFAR-10 Batch 1:  Cost = 0.4180040955543518 - Validation Accuracy = 0.6205999851226807\n",
      "Epoch 19, CIFAR-10 Batch 2:  Cost = 0.3808951675891876 - Validation Accuracy = 0.6051999926567078\n",
      "Epoch 19, CIFAR-10 Batch 3:  Cost = 0.36370614171028137 - Validation Accuracy = 0.6223999857902527\n",
      "Epoch 19, CIFAR-10 Batch 4:  Cost = 0.3300650715827942 - Validation Accuracy = 0.6141999959945679\n",
      "Epoch 19, CIFAR-10 Batch 5:  Cost = 0.29561781883239746 - Validation Accuracy = 0.6248000264167786\n",
      "Epoch 20, CIFAR-10 Batch 1:  Cost = 0.3851083815097809 - Validation Accuracy = 0.628000020980835\n",
      "Epoch 20, CIFAR-10 Batch 2:  Cost = 0.35694852471351624 - Validation Accuracy = 0.6172000169754028\n",
      "Epoch 20, CIFAR-10 Batch 3:  Cost = 0.306816965341568 - Validation Accuracy = 0.6114000082015991\n",
      "Epoch 20, CIFAR-10 Batch 4:  Cost = 0.29449647665023804 - Validation Accuracy = 0.6155999898910522\n",
      "Epoch 20, CIFAR-10 Batch 5:  Cost = 0.29823899269104004 - Validation Accuracy = 0.604200005531311\n",
      "Epoch 21, CIFAR-10 Batch 1:  Cost = 0.3986577093601227 - Validation Accuracy = 0.6209999918937683\n",
      "Epoch 21, CIFAR-10 Batch 2:  Cost = 0.30633121728897095 - Validation Accuracy = 0.6258000135421753\n",
      "Epoch 21, CIFAR-10 Batch 3:  Cost = 0.328949511051178 - Validation Accuracy = 0.599399983882904\n",
      "Epoch 21, CIFAR-10 Batch 4:  Cost = 0.2697935104370117 - Validation Accuracy = 0.6208000183105469\n",
      "Epoch 21, CIFAR-10 Batch 5:  Cost = 0.2658275067806244 - Validation Accuracy = 0.609000027179718\n",
      "Epoch 22, CIFAR-10 Batch 1:  Cost = 0.3653694987297058 - Validation Accuracy = 0.6114000082015991\n",
      "Epoch 22, CIFAR-10 Batch 2:  Cost = 0.32941532135009766 - Validation Accuracy = 0.6104000210762024\n",
      "Epoch 22, CIFAR-10 Batch 3:  Cost = 0.24221046268939972 - Validation Accuracy = 0.6155999898910522\n",
      "Epoch 22, CIFAR-10 Batch 4:  Cost = 0.3243280053138733 - Validation Accuracy = 0.5898000001907349\n",
      "Epoch 22, CIFAR-10 Batch 5:  Cost = 0.2817400097846985 - Validation Accuracy = 0.6105999946594238\n",
      "Epoch 23, CIFAR-10 Batch 1:  Cost = 0.34327495098114014 - Validation Accuracy = 0.6110000014305115\n",
      "Epoch 23, CIFAR-10 Batch 2:  Cost = 0.3301558494567871 - Validation Accuracy = 0.6132000088691711\n",
      "Epoch 23, CIFAR-10 Batch 3:  Cost = 0.2976014018058777 - Validation Accuracy = 0.6123999953269958\n",
      "Epoch 23, CIFAR-10 Batch 4:  Cost = 0.25831669569015503 - Validation Accuracy = 0.6018000245094299\n",
      "Epoch 23, CIFAR-10 Batch 5:  Cost = 0.2422182559967041 - Validation Accuracy = 0.6093999743461609\n",
      "Epoch 24, CIFAR-10 Batch 1:  Cost = 0.29900866746902466 - Validation Accuracy = 0.6164000034332275\n",
      "Epoch 24, CIFAR-10 Batch 2:  Cost = 0.2551378011703491 - Validation Accuracy = 0.631600022315979\n",
      "Epoch 24, CIFAR-10 Batch 3:  Cost = 0.21296706795692444 - Validation Accuracy = 0.6179999709129333\n",
      "Epoch 24, CIFAR-10 Batch 4:  Cost = 0.18805958330631256 - Validation Accuracy = 0.620199978351593\n",
      "Epoch 24, CIFAR-10 Batch 5:  Cost = 0.19127725064754486 - Validation Accuracy = 0.6276000142097473\n",
      "Epoch 25, CIFAR-10 Batch 1:  Cost = 0.27997419238090515 - Validation Accuracy = 0.6215999722480774\n",
      "Epoch 25, CIFAR-10 Batch 2:  Cost = 0.23813924193382263 - Validation Accuracy = 0.6255999803543091\n",
      "Epoch 25, CIFAR-10 Batch 3:  Cost = 0.19343730807304382 - Validation Accuracy = 0.6137999892234802\n",
      "Epoch 25, CIFAR-10 Batch 4:  Cost = 0.16402661800384521 - Validation Accuracy = 0.6237999796867371\n",
      "Epoch 25, CIFAR-10 Batch 5:  Cost = 0.1846437156200409 - Validation Accuracy = 0.625\n",
      "Epoch 26, CIFAR-10 Batch 1:  Cost = 0.2579307556152344 - Validation Accuracy = 0.6212000250816345\n",
      "Epoch 26, CIFAR-10 Batch 2:  Cost = 0.2338002324104309 - Validation Accuracy = 0.6133999824523926\n",
      "Epoch 26, CIFAR-10 Batch 3:  Cost = 0.1814637929201126 - Validation Accuracy = 0.6096000075340271\n",
      "Epoch 26, CIFAR-10 Batch 4:  Cost = 0.17331717908382416 - Validation Accuracy = 0.6154000163078308\n",
      "Epoch 26, CIFAR-10 Batch 5:  Cost = 0.200280100107193 - Validation Accuracy = 0.6101999878883362\n",
      "Epoch 27, CIFAR-10 Batch 1:  Cost = 0.2290879637002945 - Validation Accuracy = 0.6204000115394592\n",
      "Epoch 27, CIFAR-10 Batch 2:  Cost = 0.22953690588474274 - Validation Accuracy = 0.6037999987602234\n",
      "Epoch 27, CIFAR-10 Batch 3:  Cost = 0.17483890056610107 - Validation Accuracy = 0.6122000217437744\n",
      "Epoch 27, CIFAR-10 Batch 4:  Cost = 0.20931048691272736 - Validation Accuracy = 0.6010000109672546\n",
      "Epoch 27, CIFAR-10 Batch 5:  Cost = 0.2548845112323761 - Validation Accuracy = 0.5925999879837036\n",
      "Epoch 28, CIFAR-10 Batch 1:  Cost = 0.2677811086177826 - Validation Accuracy = 0.6115999817848206\n",
      "Epoch 28, CIFAR-10 Batch 2:  Cost = 0.21284648776054382 - Validation Accuracy = 0.6168000102043152\n",
      "Epoch 28, CIFAR-10 Batch 3:  Cost = 0.16888919472694397 - Validation Accuracy = 0.6182000041007996\n",
      "Epoch 28, CIFAR-10 Batch 4:  Cost = 0.228823721408844 - Validation Accuracy = 0.578000009059906\n",
      "Epoch 28, CIFAR-10 Batch 5:  Cost = 0.1725793182849884 - Validation Accuracy = 0.6158000230789185\n",
      "Epoch 29, CIFAR-10 Batch 1:  Cost = 0.25204822421073914 - Validation Accuracy = 0.6083999872207642\n",
      "Epoch 29, CIFAR-10 Batch 2:  Cost = 0.2208878993988037 - Validation Accuracy = 0.6266000270843506\n",
      "Epoch 29, CIFAR-10 Batch 3:  Cost = 0.20706112682819366 - Validation Accuracy = 0.6141999959945679\n",
      "Epoch 29, CIFAR-10 Batch 4:  Cost = 0.15288911759853363 - Validation Accuracy = 0.6187999844551086\n",
      "Epoch 29, CIFAR-10 Batch 5:  Cost = 0.20370815694332123 - Validation Accuracy = 0.604200005531311\n",
      "Epoch 30, CIFAR-10 Batch 1:  Cost = 0.2839013934135437 - Validation Accuracy = 0.6011999845504761\n",
      "Epoch 30, CIFAR-10 Batch 2:  Cost = 0.2531947195529938 - Validation Accuracy = 0.6000000238418579\n",
      "Epoch 30, CIFAR-10 Batch 3:  Cost = 0.2160850316286087 - Validation Accuracy = 0.5917999744415283\n",
      "Epoch 30, CIFAR-10 Batch 4:  Cost = 0.15882103145122528 - Validation Accuracy = 0.5982000231742859\n",
      "Epoch 30, CIFAR-10 Batch 5:  Cost = 0.15749160945415497 - Validation Accuracy = 0.6209999918937683\n",
      "Epoch 31, CIFAR-10 Batch 1:  Cost = 0.18730062246322632 - Validation Accuracy = 0.6187999844551086\n",
      "Epoch 31, CIFAR-10 Batch 2:  Cost = 0.16539178788661957 - Validation Accuracy = 0.626800000667572\n",
      "Epoch 31, CIFAR-10 Batch 3:  Cost = 0.17357076704502106 - Validation Accuracy = 0.6025999784469604\n",
      "Epoch 31, CIFAR-10 Batch 4:  Cost = 0.13401564955711365 - Validation Accuracy = 0.6043999791145325\n",
      "Epoch 31, CIFAR-10 Batch 5:  Cost = 0.1407335102558136 - Validation Accuracy = 0.6227999925613403\n",
      "Epoch 32, CIFAR-10 Batch 1:  Cost = 0.1801532357931137 - Validation Accuracy = 0.6212000250816345\n",
      "Epoch 32, CIFAR-10 Batch 2:  Cost = 0.2003163844347 - Validation Accuracy = 0.6197999715805054\n",
      "Epoch 32, CIFAR-10 Batch 3:  Cost = 0.18388378620147705 - Validation Accuracy = 0.6172000169754028\n",
      "Epoch 32, CIFAR-10 Batch 4:  Cost = 0.12397116422653198 - Validation Accuracy = 0.6172000169754028\n",
      "Epoch 32, CIFAR-10 Batch 5:  Cost = 0.16727674007415771 - Validation Accuracy = 0.6086000204086304\n",
      "Epoch 33, CIFAR-10 Batch 1:  Cost = 0.17812947928905487 - Validation Accuracy = 0.6115999817848206\n",
      "Epoch 33, CIFAR-10 Batch 2:  Cost = 0.1741645783185959 - Validation Accuracy = 0.6259999871253967\n",
      "Epoch 33, CIFAR-10 Batch 3:  Cost = 0.1129227727651596 - Validation Accuracy = 0.6302000284194946\n",
      "Epoch 33, CIFAR-10 Batch 4:  Cost = 0.09003293514251709 - Validation Accuracy = 0.6269999742507935\n",
      "Epoch 33, CIFAR-10 Batch 5:  Cost = 0.08339592814445496 - Validation Accuracy = 0.6326000094413757\n",
      "Epoch 34, CIFAR-10 Batch 1:  Cost = 0.14099490642547607 - Validation Accuracy = 0.6277999877929688\n",
      "Epoch 34, CIFAR-10 Batch 2:  Cost = 0.10907361656427383 - Validation Accuracy = 0.6377999782562256\n",
      "Epoch 34, CIFAR-10 Batch 3:  Cost = 0.09385348111391068 - Validation Accuracy = 0.6341999769210815\n"
     ]
    },
    {
     "name": "stdout",
     "output_type": "stream",
     "text": [
      "Epoch 34, CIFAR-10 Batch 4:  Cost = 0.06315404176712036 - Validation Accuracy = 0.6317999958992004\n",
      "Epoch 34, CIFAR-10 Batch 5:  Cost = 0.07766682654619217 - Validation Accuracy = 0.6331999897956848\n",
      "Epoch 35, CIFAR-10 Batch 1:  Cost = 0.09864983707666397 - Validation Accuracy = 0.6389999985694885\n",
      "Epoch 35, CIFAR-10 Batch 2:  Cost = 0.09407111257314682 - Validation Accuracy = 0.6362000107765198\n",
      "Epoch 35, CIFAR-10 Batch 3:  Cost = 0.07912975549697876 - Validation Accuracy = 0.63919997215271\n",
      "Epoch 35, CIFAR-10 Batch 4:  Cost = 0.0637950599193573 - Validation Accuracy = 0.6348000168800354\n",
      "Epoch 35, CIFAR-10 Batch 5:  Cost = 0.06515860557556152 - Validation Accuracy = 0.6353999972343445\n",
      "Epoch 36, CIFAR-10 Batch 1:  Cost = 0.08238078653812408 - Validation Accuracy = 0.6406000256538391\n",
      "Epoch 36, CIFAR-10 Batch 2:  Cost = 0.09331922978162766 - Validation Accuracy = 0.6341999769210815\n",
      "Epoch 36, CIFAR-10 Batch 3:  Cost = 0.06877746433019638 - Validation Accuracy = 0.6398000121116638\n",
      "Epoch 36, CIFAR-10 Batch 4:  Cost = 0.058269910514354706 - Validation Accuracy = 0.6367999911308289\n",
      "Epoch 36, CIFAR-10 Batch 5:  Cost = 0.06133764609694481 - Validation Accuracy = 0.6291999816894531\n",
      "Epoch 37, CIFAR-10 Batch 1:  Cost = 0.07693254947662354 - Validation Accuracy = 0.6358000040054321\n",
      "Epoch 37, CIFAR-10 Batch 2:  Cost = 0.07572469860315323 - Validation Accuracy = 0.6370000243186951\n",
      "Epoch 37, CIFAR-10 Batch 3:  Cost = 0.0674777626991272 - Validation Accuracy = 0.6341999769210815\n",
      "Epoch 37, CIFAR-10 Batch 4:  Cost = 0.05374569073319435 - Validation Accuracy = 0.6304000020027161\n",
      "Epoch 37, CIFAR-10 Batch 5:  Cost = 0.05508679524064064 - Validation Accuracy = 0.6284000277519226\n",
      "Epoch 38, CIFAR-10 Batch 1:  Cost = 0.08287843316793442 - Validation Accuracy = 0.625\n",
      "Epoch 38, CIFAR-10 Batch 2:  Cost = 0.06268574297428131 - Validation Accuracy = 0.6413999795913696\n",
      "Epoch 38, CIFAR-10 Batch 3:  Cost = 0.0737442746758461 - Validation Accuracy = 0.6305999755859375\n",
      "Epoch 38, CIFAR-10 Batch 4:  Cost = 0.05002797022461891 - Validation Accuracy = 0.625\n",
      "Epoch 38, CIFAR-10 Batch 5:  Cost = 0.06496667116880417 - Validation Accuracy = 0.621399998664856\n",
      "Epoch 39, CIFAR-10 Batch 1:  Cost = 0.06701020151376724 - Validation Accuracy = 0.6273999810218811\n",
      "Epoch 39, CIFAR-10 Batch 2:  Cost = 0.061418335884809494 - Validation Accuracy = 0.6331999897956848\n",
      "Epoch 39, CIFAR-10 Batch 3:  Cost = 0.061518698930740356 - Validation Accuracy = 0.626800000667572\n",
      "Epoch 39, CIFAR-10 Batch 4:  Cost = 0.0500168651342392 - Validation Accuracy = 0.6176000237464905\n",
      "Epoch 39, CIFAR-10 Batch 5:  Cost = 0.040363065898418427 - Validation Accuracy = 0.6309999823570251\n",
      "Epoch 40, CIFAR-10 Batch 1:  Cost = 0.05131583288311958 - Validation Accuracy = 0.6380000114440918\n",
      "Epoch 40, CIFAR-10 Batch 2:  Cost = 0.06840690970420837 - Validation Accuracy = 0.6291999816894531\n",
      "Epoch 40, CIFAR-10 Batch 3:  Cost = 0.05997075140476227 - Validation Accuracy = 0.6340000033378601\n",
      "Epoch 40, CIFAR-10 Batch 4:  Cost = 0.04931807890534401 - Validation Accuracy = 0.6237999796867371\n",
      "Epoch 40, CIFAR-10 Batch 5:  Cost = 0.04354281350970268 - Validation Accuracy = 0.621399998664856\n",
      "Epoch 41, CIFAR-10 Batch 1:  Cost = 0.07360988110303879 - Validation Accuracy = 0.6294000148773193\n",
      "Epoch 41, CIFAR-10 Batch 2:  Cost = 0.07853487879037857 - Validation Accuracy = 0.6133999824523926\n",
      "Epoch 41, CIFAR-10 Batch 3:  Cost = 0.08066827058792114 - Validation Accuracy = 0.6159999966621399\n",
      "Epoch 41, CIFAR-10 Batch 4:  Cost = 0.04096706211566925 - Validation Accuracy = 0.6236000061035156\n",
      "Epoch 41, CIFAR-10 Batch 5:  Cost = 0.03772204741835594 - Validation Accuracy = 0.623199999332428\n",
      "Epoch 42, CIFAR-10 Batch 1:  Cost = 0.04350483417510986 - Validation Accuracy = 0.6299999952316284\n",
      "Epoch 42, CIFAR-10 Batch 2:  Cost = 0.056432779878377914 - Validation Accuracy = 0.6122000217437744\n",
      "Epoch 42, CIFAR-10 Batch 3:  Cost = 0.0695318877696991 - Validation Accuracy = 0.6141999959945679\n",
      "Epoch 42, CIFAR-10 Batch 4:  Cost = 0.0456378199160099 - Validation Accuracy = 0.6209999918937683\n",
      "Epoch 42, CIFAR-10 Batch 5:  Cost = 0.03214915469288826 - Validation Accuracy = 0.6331999897956848\n",
      "Epoch 43, CIFAR-10 Batch 1:  Cost = 0.04878823086619377 - Validation Accuracy = 0.6276000142097473\n",
      "Epoch 43, CIFAR-10 Batch 2:  Cost = 0.031904809176921844 - Validation Accuracy = 0.6335999965667725\n",
      "Epoch 43, CIFAR-10 Batch 3:  Cost = 0.04907206445932388 - Validation Accuracy = 0.6302000284194946\n",
      "Epoch 43, CIFAR-10 Batch 4:  Cost = 0.036396145820617676 - Validation Accuracy = 0.6186000108718872\n",
      "Epoch 43, CIFAR-10 Batch 5:  Cost = 0.028387408703565598 - Validation Accuracy = 0.6284000277519226\n",
      "Epoch 44, CIFAR-10 Batch 1:  Cost = 0.04078833386301994 - Validation Accuracy = 0.6295999884605408\n",
      "Epoch 44, CIFAR-10 Batch 2:  Cost = 0.03126667067408562 - Validation Accuracy = 0.6302000284194946\n",
      "Epoch 44, CIFAR-10 Batch 3:  Cost = 0.043993838131427765 - Validation Accuracy = 0.631600022315979\n",
      "Epoch 44, CIFAR-10 Batch 4:  Cost = 0.03285881504416466 - Validation Accuracy = 0.6223999857902527\n",
      "Epoch 44, CIFAR-10 Batch 5:  Cost = 0.03911721706390381 - Validation Accuracy = 0.6205999851226807\n",
      "Epoch 45, CIFAR-10 Batch 1:  Cost = 0.04207436367869377 - Validation Accuracy = 0.6424000263214111\n",
      "Epoch 45, CIFAR-10 Batch 2:  Cost = 0.03874655440449715 - Validation Accuracy = 0.6204000115394592\n",
      "Epoch 45, CIFAR-10 Batch 3:  Cost = 0.05179336294531822 - Validation Accuracy = 0.621999979019165\n",
      "Epoch 45, CIFAR-10 Batch 4:  Cost = 0.03399176523089409 - Validation Accuracy = 0.6161999702453613\n",
      "Epoch 45, CIFAR-10 Batch 5:  Cost = 0.048839021474123 - Validation Accuracy = 0.6110000014305115\n",
      "Epoch 46, CIFAR-10 Batch 1:  Cost = 0.049043238162994385 - Validation Accuracy = 0.6376000046730042\n",
      "Epoch 46, CIFAR-10 Batch 2:  Cost = 0.03624815121293068 - Validation Accuracy = 0.6144000291824341\n",
      "Epoch 46, CIFAR-10 Batch 3:  Cost = 0.05743817985057831 - Validation Accuracy = 0.6186000108718872\n",
      "Epoch 46, CIFAR-10 Batch 4:  Cost = 0.059127695858478546 - Validation Accuracy = 0.6136000156402588\n",
      "Epoch 46, CIFAR-10 Batch 5:  Cost = 0.031095320358872414 - Validation Accuracy = 0.628000020980835\n",
      "Epoch 47, CIFAR-10 Batch 1:  Cost = 0.03993029519915581 - Validation Accuracy = 0.6323999762535095\n",
      "Epoch 47, CIFAR-10 Batch 2:  Cost = 0.059265222400426865 - Validation Accuracy = 0.6194000244140625\n",
      "Epoch 47, CIFAR-10 Batch 3:  Cost = 0.05155758932232857 - Validation Accuracy = 0.6245999932289124\n",
      "Epoch 47, CIFAR-10 Batch 4:  Cost = 0.04297644644975662 - Validation Accuracy = 0.6137999892234802\n",
      "Epoch 47, CIFAR-10 Batch 5:  Cost = 0.03297874331474304 - Validation Accuracy = 0.6327999830245972\n",
      "Epoch 48, CIFAR-10 Batch 1:  Cost = 0.06346525251865387 - Validation Accuracy = 0.6115999817848206\n",
      "Epoch 48, CIFAR-10 Batch 2:  Cost = 0.0361141599714756 - Validation Accuracy = 0.6313999891281128\n",
      "Epoch 48, CIFAR-10 Batch 3:  Cost = 0.04784101992845535 - Validation Accuracy = 0.6240000128746033\n",
      "Epoch 48, CIFAR-10 Batch 4:  Cost = 0.04113881289958954 - Validation Accuracy = 0.6161999702453613\n",
      "Epoch 48, CIFAR-10 Batch 5:  Cost = 0.0250579621642828 - Validation Accuracy = 0.6341999769210815\n",
      "Epoch 49, CIFAR-10 Batch 1:  Cost = 0.05515003204345703 - Validation Accuracy = 0.5997999906539917\n",
      "Epoch 49, CIFAR-10 Batch 2:  Cost = 0.0352930910885334 - Validation Accuracy = 0.6384000182151794\n",
      "Epoch 49, CIFAR-10 Batch 3:  Cost = 0.047643329948186874 - Validation Accuracy = 0.6191999912261963\n",
      "Epoch 49, CIFAR-10 Batch 4:  Cost = 0.035861704498529434 - Validation Accuracy = 0.620199978351593\n",
      "Epoch 49, CIFAR-10 Batch 5:  Cost = 0.0564800500869751 - Validation Accuracy = 0.61080002784729\n",
      "Epoch 50, CIFAR-10 Batch 1:  Cost = 0.054720159620046616 - Validation Accuracy = 0.6064000129699707\n",
      "Epoch 50, CIFAR-10 Batch 2:  Cost = 0.0663163885474205 - Validation Accuracy = 0.61080002784729\n",
      "Epoch 50, CIFAR-10 Batch 3:  Cost = 0.025890974327921867 - Validation Accuracy = 0.6380000114440918\n",
      "Epoch 50, CIFAR-10 Batch 4:  Cost = 0.0379553958773613 - Validation Accuracy = 0.6299999952316284\n",
      "Epoch 50, CIFAR-10 Batch 5:  Cost = 0.022401662543416023 - Validation Accuracy = 0.6254000067710876\n"
     ]
    }
   ],
   "source": [
    "save_model_path = './image_classification'\n",
    "\n",
    "print('Training...')\n",
    "with tf.Session() as sess:\n",
    "    # Initializing the variables\n",
    "    sess.run(tf.global_variables_initializer())\n",
    "    \n",
    "    # Training cycle\n",
    "    for epoch in range(epochs):\n",
    "        # Loop over all batches\n",
    "        n_batches = 5\n",
    "        for batch_i in range(1, n_batches + 1):\n",
    "            for batch_features, batch_labels in utils.load_preprocess_training_batch(batch_i, batch_size):\n",
    "                train_neural_network(sess, optimizer, keep_probability, batch_features, batch_labels)\n",
    "            print('Epoch {:>2}, CIFAR-10 Batch {}:  '.format(epoch + 1, batch_i), end='')\n",
    "            print_stats(sess, batch_features, batch_labels, cost, accuracy)\n",
    "            \n",
    "    # Save Model\n",
    "    saver = tf.train.Saver()\n",
    "    save_path = saver.save(sess, save_model_path)"
   ]
  },
  {
   "cell_type": "markdown",
   "metadata": {},
   "source": [
    "### Checkpoint\n",
    "The model has been saved to disk.\n",
    "\n",
    "\n",
    "# Step 4: Test Model\n",
    "Test your model against the test dataset.  This will be your final accuracy. You should have an accuracy greater than 50%. If you don't, keep tweaking the model architecture and parameters."
   ]
  },
  {
   "cell_type": "code",
   "execution_count": 33,
   "metadata": {},
   "outputs": [
    {
     "name": "stdout",
     "output_type": "stream",
     "text": [
      "INFO:tensorflow:Restoring parameters from ./image_classification\n",
      "Testing Accuracy: 0.6150151491165161\n",
      "\n"
     ]
    },
    {
     "data": {
      "image/png": "[encoded data removed]",
      "text/plain": [
       "<matplotlib.figure.Figure at 0x1277ff048>"
      ]
     },
     "metadata": {
      "image/png": {
       "height": 319,
       "width": 355
      }
     },
     "output_type": "display_data"
    }
   ],
   "source": [
    "import random\n",
    "\n",
    "# Set batch size if not already set\n",
    "try:\n",
    "    if batch_size:\n",
    "        pass\n",
    "except NameError:\n",
    "    batch_size = 64\n",
    "\n",
    "save_model_path = './image_classification'\n",
    "n_samples = 4\n",
    "top_n_predictions = 3\n",
    "\n",
    "def test_model():\n",
    "    \"\"\"\n",
    "    Test the saved model against the test dataset\n",
    "    \"\"\"\n",
    "\n",
    "    test_features, test_labels = pickle.load(open('preprocess_training.p', mode='rb'))\n",
    "    loaded_graph = tf.Graph()\n",
    "\n",
    "    with tf.Session(graph=loaded_graph) as sess:\n",
    "        # Load model\n",
    "        loader = tf.train.import_meta_graph(save_model_path + '.meta')\n",
    "        loader.restore(sess, save_model_path)\n",
    "\n",
    "        # Get Tensors from loaded model\n",
    "        loaded_x = loaded_graph.get_tensor_by_name('x:0')\n",
    "        loaded_y = loaded_graph.get_tensor_by_name('y:0')\n",
    "        loaded_keep_prob = loaded_graph.get_tensor_by_name('keep_prob:0')\n",
    "        loaded_logits = loaded_graph.get_tensor_by_name('logits:0')\n",
    "        loaded_acc = loaded_graph.get_tensor_by_name('accuracy:0')\n",
    "        \n",
    "        # Get accuracy in batches for memory limitations\n",
    "        test_batch_acc_total = 0\n",
    "        test_batch_count = 0\n",
    "        \n",
    "        for train_feature_batch, train_label_batch in utils.batch_features_labels(test_features, test_labels, batch_size):\n",
    "            test_batch_acc_total += sess.run(\n",
    "                loaded_acc,\n",
    "                feed_dict={loaded_x: train_feature_batch, loaded_y: train_label_batch, loaded_keep_prob: 1.0})\n",
    "            test_batch_count += 1\n",
    "\n",
    "        print('Testing Accuracy: {}\\n'.format(test_batch_acc_total/test_batch_count))\n",
    "\n",
    "        # Print Random Samples\n",
    "        random_test_features, random_test_labels = tuple(zip(*random.sample(list(zip(test_features, test_labels)), n_samples)))\n",
    "        random_test_predictions = sess.run(\n",
    "            tf.nn.top_k(tf.nn.softmax(loaded_logits), top_n_predictions),\n",
    "            feed_dict={loaded_x: random_test_features, loaded_y: random_test_labels, loaded_keep_prob: 1.0})\n",
    "        utils.display_image_predictions(random_test_features, random_test_labels, random_test_predictions)\n",
    "\n",
    "\n",
    "test_model()"
   ]
  },
  {
   "cell_type": "markdown",
   "metadata": {},
   "source": [
    "### Few observations:\n",
    "\n",
    "##### Why 50-70% Accuracy?\n",
    "You might be wondering why you can't get an accuracy any higher. First things first, 50% isn't bad for a simple CNN.  Pure guessing would get you 10% accuracy. However, you might notice people are getting scores [well above 70%](http://rodrigob.github.io/are_we_there_yet/build/classification_datasets_results.html#43494641522d3130).  That's because we haven't taught you all there is to know about neural networks. We still need to cover a few more techniques."
   ]
  }
 ],
 "metadata": {
  "kernelspec": {
   "display_name": "Python 3",
   "language": "python",
   "name": "python3"
  },
  "language_info": {
   "codemirror_mode": {
    "name": "ipython",
    "version": 3
   },
   "file_extension": ".py",
   "mimetype": "text/x-python",
   "name": "python",
   "nbconvert_exporter": "python",
   "pygments_lexer": "ipython3",
   "version": "3.6.4"
  }
 },
 "nbformat": 4,
 "nbformat_minor": 2
}
