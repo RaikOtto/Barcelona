{
 "cells": [
  {
   "cell_type": "markdown",
   "metadata": {},
   "source": [
    "# MNIST CNN Introduction to CNN Keras - Acc 99.67%\n",
    "\n",
    "\n",
    "* **1. Introduction**\n",
    "* **2. Data preparation**\n",
    "    * 2.1 Load data\n",
    "    * 2.2 Check for null and missing values\n",
    "    * 2.3 Normalization\n",
    "    * 2.4 Reshape\n",
    "    * 2.5 Label encoding\n",
    "    * 2.6 Split training and valdiation set\n",
    "* **3. CNN**\n",
    "    * 3.1 Define the model\n",
    "    * 3.2 Set the optimizer and annealer\n",
    "    * 3.3 Data augmentation\n",
    "* **4. Evaluate the model**\n",
    "    * 4.1 Training and validation curves\n",
    "    * 4.2 Confusion matrix\n",
    "* **5. Prediction and submition**\n",
    "    * 5.1 Predict and Submit results"
   ]
  },
  {
   "cell_type": "markdown",
   "metadata": {
    "collapsed": true
   },
   "source": [
    "# 1. Introduction\n",
    "\n",
    "This is a 5 layers Sequential Convolutional Neural Network for digits recognition trained on MNIST dataset. I choosed to build it with keras API (Tensorflow backend) which is very intuitive. Firstly, I will prepare the data (handwritten digits images) then i will focus on the CNN modeling and evaluation.\n",
    "\n",
    "I achieved 99.671% of accuracy with this CNN trained in 2h30 on a single CPU (i5 2500k). For those who have a >= 3.0 GPU capabilites (from GTX 650 - to recent GPUs), you can use tensorflow-gpu with keras. Computation will be much much faster !!!\n",
    "\n",
    "**For computational reasons, i set the number of steps (epochs) to 2, if you [want](http://) to achieve 99+% of accuracy set it to 30.**\n",
    "\n",
    "This Notebook follows three main parts:\n",
    "\n",
    "* The data preparation\n",
    "* The CNN modeling and evaluation\n",
    "* The results prediction and submission\n",
    "\n",
    "\n",
    "\n",
    "\n",
    "<img src=\"http://img1.imagilive.com/0717/mnist-sample.png\" ></img>"
   ]
  },
  {
   "cell_type": "code",
   "execution_count": 4,
   "metadata": {
    "collapsed": true
   },
   "outputs": [],
   "source": [
    "# Cosmetic preparation\n",
    "### switch off deprecation and future warnings\n",
    "import warnings\n",
    "\n",
    "def fxn():\n",
    "    warnings.warn(\"deprecated\", DeprecationWarning)\n",
    "\n",
    "with warnings.catch_warnings():\n",
    "    warnings.simplefilter(\"ignore\")\n",
    "    fxn()\n",
    "warnings.simplefilter(action='ignore', category=FutureWarning)\n",
    "\n",
    "################################\n",
    "\n",
    "import pandas as pd\n",
    "import numpy as np\n",
    "import matplotlib.pyplot as plt\n",
    "import matplotlib.image as mpimg\n",
    "import seaborn as sns\n",
    "%matplotlib inline\n",
    "\n",
    "np.random.seed(2)\n",
    "\n",
    "from sklearn.model_selection import train_test_split\n",
    "from sklearn.metrics import confusion_matrix\n",
    "import itertools\n",
    "\n",
    "from keras.utils.np_utils import to_categorical # convert to one-hot-encoding\n",
    "from keras.models import Sequential\n",
    "from keras.layers import Dense, Dropout, Flatten, Conv2D, MaxPool2D\n",
    "from keras.optimizers import RMSprop\n",
    "from keras.preprocessing.image import ImageDataGenerator\n",
    "from keras.callbacks import ReduceLROnPlateau\n",
    "\n",
    "\n",
    "sns.set(style='white', context='notebook', palette='deep')"
   ]
  },
  {
   "cell_type": "markdown",
   "metadata": {},
   "source": [
    "# 2. Data preparation\n",
    "## 2.1 Load data"
   ]
  },
  {
   "cell_type": "code",
   "execution_count": 5,
   "metadata": {
    "collapsed": true
   },
   "outputs": [],
   "source": [
    "# Load the data\n",
    "train = pd.read_csv(\"train.csv\")\n",
    "test = pd.read_csv(\"test.csv\")"
   ]
  },
  {
   "cell_type": "code",
   "execution_count": 6,
   "metadata": {},
   "outputs": [
    {
     "data": {
      "text/plain": [
       "1    4684\n",
       "7    4401\n",
       "3    4351\n",
       "9    4188\n",
       "2    4177\n",
       "6    4137\n",
       "0    4132\n",
       "4    4072\n",
       "8    4063\n",
       "5    3795\n",
       "Name: label, dtype: int64"
      ]
     },
     "execution_count": 6,
     "metadata": {},
     "output_type": "execute_result"
    },
    {
     "data": {
      "image/png": "[encoded data removed]",
      "text/plain": [
       "<matplotlib.figure.Figure at 0x7f52db624c88>"
      ]
     },
     "metadata": {},
     "output_type": "display_data"
    }
   ],
   "source": [
    "Y_train = train[\"label\"]\n",
    "\n",
    "# Drop 'label' column\n",
    "X_train = train.drop(labels = [\"label\"],axis = 1) \n",
    "\n",
    "# free some space\n",
    "del train \n",
    "\n",
    "g = sns.countplot(Y_train)\n",
    "\n",
    "Y_train.value_counts()"
   ]
  },
  {
   "cell_type": "markdown",
   "metadata": {},
   "source": [
    "## 2.2 Check for null and missing values"
   ]
  },
  {
   "cell_type": "code",
   "execution_count": 7,
   "metadata": {},
   "outputs": [
    {
     "data": {
      "text/plain": [
       "count       784\n",
       "unique        1\n",
       "top       False\n",
       "freq        784\n",
       "dtype: object"
      ]
     },
     "execution_count": 7,
     "metadata": {},
     "output_type": "execute_result"
    }
   ],
   "source": [
    "# Check the data\n",
    "X_train.isnull().any().describe()"
   ]
  },
  {
   "cell_type": "code",
   "execution_count": 8,
   "metadata": {},
   "outputs": [
    {
     "data": {
      "text/plain": [
       "count       784\n",
       "unique        1\n",
       "top       False\n",
       "freq        784\n",
       "dtype: object"
      ]
     },
     "execution_count": 8,
     "metadata": {},
     "output_type": "execute_result"
    }
   ],
   "source": [
    "test.isnull().any().describe()"
   ]
  },
  {
   "cell_type": "markdown",
   "metadata": {},
   "source": [
    "I check for corrupted images (missing values inside).\n",
    "\n",
    "There is no missing values in the train and test dataset. So we can safely go ahead."
   ]
  },
  {
   "cell_type": "markdown",
   "metadata": {},
   "source": [
    "## 2.3 Normalization\n",
    "\n",
    "We perform a grayscale normalization to reduce the effect of illumination's differences. \n",
    "\n",
    "Moreover the CNN converg faster on [0..1] data than on [0..255]."
   ]
  },
  {
   "cell_type": "code",
   "execution_count": 9,
   "metadata": {
    "collapsed": true
   },
   "outputs": [],
   "source": [
    "# Normalize the data\n",
    "X_train = X_train / 255.0\n",
    "test = test / 255.0"
   ]
  },
  {
   "cell_type": "markdown",
   "metadata": {},
   "source": [
    "## 2.3 Reshape"
   ]
  },
  {
   "cell_type": "code",
   "execution_count": 10,
   "metadata": {
    "collapsed": true
   },
   "outputs": [],
   "source": [
    "# Reshape image in 3 dimensions (height = 28px, width = 28px , canal = 1)\n",
    "X_train = X_train.values.reshape(-1,28,28,1)\n",
    "test = test.values.reshape(-1,28,28,1)"
   ]
  },
  {
   "cell_type": "markdown",
   "metadata": {},
   "source": [
    "Train and test images (28px x 28px) has been stock into pandas.Dataframe as 1D vectors of 784 values. We reshape all data to 28x28x1 3D matrices. \n",
    "\n",
    "Keras requires an extra dimension in the end which correspond to channels. MNIST images are gray scaled so it use only one channel. For RGB images, there is 3 channels, we would have reshaped 784px vectors to 28x28x3 3D matrices. "
   ]
  },
  {
   "cell_type": "markdown",
   "metadata": {},
   "source": [
    "## 2.5 Label encoding"
   ]
  },
  {
   "cell_type": "code",
   "execution_count": 11,
   "metadata": {
    "collapsed": true
   },
   "outputs": [],
   "source": [
    "# Encode labels to one hot vectors (ex : 2 -> [0,0,1,0,0,0,0,0,0,0])\n",
    "Y_train = to_categorical(Y_train, num_classes = 10)"
   ]
  },
  {
   "cell_type": "markdown",
   "metadata": {},
   "source": [
    "Labels are 10 digits numbers from 0 to 9. We need to encode these lables to one hot vectors (ex : 2 -> [0,0,1,0,0,0,0,0,0,0])."
   ]
  },
  {
   "cell_type": "markdown",
   "metadata": {},
   "source": [
    "## 2.6 Split training and valdiation set "
   ]
  },
  {
   "cell_type": "code",
   "execution_count": 12,
   "metadata": {
    "collapsed": true
   },
   "outputs": [],
   "source": [
    "# Set the random seed\n",
    "random_seed = 2"
   ]
  },
  {
   "cell_type": "code",
   "execution_count": 13,
   "metadata": {
    "collapsed": true
   },
   "outputs": [],
   "source": [
    "# Split the train and the validation set for the fitting\n",
    "X_train, X_val, Y_train, Y_val = train_test_split(X_train, \n",
    "                                                  Y_train, \n",
    "                                                  test_size = 0.1, \n",
    "                                                  random_state=random_seed)"
   ]
  },
  {
   "cell_type": "markdown",
   "metadata": {},
   "source": [
    "I choosed to split the train set in two parts : a small fraction (10%) became the validation set which the model is evaluated and the rest (90%) is used to train the model.\n",
    "\n",
    "Since we have 42 000 training images of balanced labels (see 2.1 Load data), a random split of the train set doesn't cause some labels to be over represented in the validation set. Be carefull with some unbalanced dataset a simple random split could cause inaccurate evaluation during the validation. \n",
    "\n",
    "To avoid that, you could use stratify = True option in train_test_split function (**Only for >=0.17 sklearn versions**).\n",
    "\n",
    "We can get a better sense for one of these examples by visualising the image and looking at the label."
   ]
  },
  {
   "cell_type": "code",
   "execution_count": 14,
   "metadata": {},
   "outputs": [
    {
     "data": {
      "image/png": "[encoded data removed]",
      "text/plain": [
       "<matplotlib.figure.Figure at 0x7f52d4945eb8>"
      ]
     },
     "metadata": {},
     "output_type": "display_data"
    }
   ],
   "source": [
    "# Some examples\n",
    "g = plt.imshow(X_train[0][:,:,0])"
   ]
  },
  {
   "cell_type": "markdown",
   "metadata": {},
   "source": [
    "# 3. CNN\n",
    "## 3.1 Define the model"
   ]
  },
  {
   "cell_type": "markdown",
   "metadata": {},
   "source": [
    "I used the Keras Sequential API, where you have just to add one layer at a time, starting from the input.\n",
    "\n",
    "The first is the convolutional (Conv2D) layer. It is like a set of learnable filters. I choosed to set 32 filters for the two firsts conv2D layers and 64 filters for the two last ones. Each filter transforms a part of the image (defined by the kernel size) using the kernel filter. The kernel filter matrix is applied on the whole image. Filters can be seen as a transformation of the image.\n",
    "\n",
    "The CNN can isolate features that are useful everywhere from these transformed images (feature maps).\n",
    "\n",
    "The second important layer in CNN is the pooling (MaxPool2D) layer. This layer simply acts as a downsampling filter. It looks at the 2 neighboring pixels and picks the maximal value. These are used to reduce computational cost, and to some extent also reduce overfitting. We have to choose the pooling size (i.e the area size pooled each time) more the pooling dimension is high, more the downsampling is important. \n",
    "\n",
    "Combining convolutional and pooling layers, CNN are able to combine local features and learn more global features of the image.\n",
    "\n",
    "Dropout is a regularization method, where a proportion of nodes in the layer are randomly ignored (setting their wieghts to zero) for each training sample. This drops randomly a propotion of the network and forces the network to learn features in a distributed way. This technique also improves generalization and reduces the overfitting. \n",
    "\n",
    "'relu' is the rectifier (activation function max(0,x). The rectifier activation function is used to add non linearity to the network. \n",
    "\n",
    "The Flatten layer is use to convert the final feature maps into a one single 1D vector. This flattening step is needed so that you can make use of fully connected layers after some convolutional/maxpool layers. It combines all the found local features of the previous convolutional layers.\n",
    "\n",
    "In the end i used the features in two fully-connected (Dense) layers which is just artificial an neural networks (ANN) classifier. In the last layer(Dense(10,activation=\"softmax\")) the net outputs distribution of probability of each class."
   ]
  },
  {
   "cell_type": "code",
   "execution_count": 15,
   "metadata": {},
   "outputs": [
    {
     "name": "stdout",
     "output_type": "stream",
     "text": [
      "WARNING:tensorflow:From /home/deeplearn/anaconda3/lib/python3.6/site-packages/keras/backend/tensorflow_backend.py:1205: calling reduce_prod (from tensorflow.python.ops.math_ops) with keep_dims is deprecated and will be removed in a future version.\n",
      "Instructions for updating:\n",
      "keep_dims is deprecated, use keepdims instead\n"
     ]
    }
   ],
   "source": [
    "# Set the CNN model \n",
    "# my CNN architechture is In -> [[Conv2D->relu]*2 -> MaxPool2D -> Dropout]*2 -> Flatten -> Dense -> Dropout -> Out\n",
    "\n",
    "model = Sequential()\n",
    "\n",
    "model.add(Conv2D(filters = 32, kernel_size = (5,5),padding = 'Same', \n",
    "                 activation ='relu', input_shape = (28,28,1)))\n",
    "model.add(Conv2D(filters = 32, kernel_size = (5,5),padding = 'Same', \n",
    "                 activation ='relu'))\n",
    "model.add(MaxPool2D(pool_size=(2,2)))\n",
    "model.add(Dropout(0.25))\n",
    "\n",
    "\n",
    "model.add(Conv2D(filters = 64, kernel_size = (3,3),padding = 'Same', \n",
    "                 activation ='relu'))\n",
    "model.add(Conv2D(filters = 64, kernel_size = (3,3),padding = 'Same', \n",
    "                 activation ='relu'))\n",
    "model.add(MaxPool2D(pool_size=(2,2), strides=(2,2)))\n",
    "model.add(Dropout(0.25))\n",
    "\n",
    "\n",
    "model.add(Flatten())\n",
    "model.add(Dense(256, activation = \"relu\"))\n",
    "model.add(Dropout(0.5))\n",
    "model.add(Dense(10, activation = \"softmax\"))"
   ]
  },
  {
   "cell_type": "markdown",
   "metadata": {},
   "source": [
    "## 3.2 Set the optimizer and annealer\n",
    "\n",
    "Once our layers are added to the model, we need to set up a score function, a loss function and an optimisation algorithm.\n",
    "\n",
    "We define the loss function to measure how poorly our model performs on images with known labels. It is the error rate between the oberved labels and the predicted ones. We use a specific form for categorical classifications (>2 classes) called the \"categorical_crossentropy\".\n",
    "\n",
    "The most important function is the optimizer. This function will iteratively improve parameters (filters kernel values, weights and bias of neurons ...) in order to minimise the loss. \n",
    "\n",
    "I choosed RMSprop (with default values), it is a very effective optimizer. The RMSProp update adjusts the Adagrad method in a very simple way in an attempt to reduce its aggressive, monotonically decreasing learning rate.\n",
    "We could also have used Stochastic Gradient Descent ('sgd') optimizer, but it is slower than RMSprop.\n",
    "\n",
    "The metric function \"accuracy\" is used is to evaluate the performance our model.\n",
    "This metric function is similar to the loss function, except that the results from the metric evaluation are not used when training the model (only for evaluation).\n"
   ]
  },
  {
   "cell_type": "code",
   "execution_count": 16,
   "metadata": {
    "collapsed": true
   },
   "outputs": [],
   "source": [
    "# Define the optimizer\n",
    "optimizer = RMSprop(lr=0.001, rho=0.9, epsilon=1e-08, decay=0.0)"
   ]
  },
  {
   "cell_type": "code",
   "execution_count": 17,
   "metadata": {},
   "outputs": [
    {
     "name": "stdout",
     "output_type": "stream",
     "text": [
      "WARNING:tensorflow:From /home/deeplearn/anaconda3/lib/python3.6/site-packages/keras/backend/tensorflow_backend.py:2755: calling reduce_sum (from tensorflow.python.ops.math_ops) with keep_dims is deprecated and will be removed in a future version.\n",
      "Instructions for updating:\n",
      "keep_dims is deprecated, use keepdims instead\n",
      "WARNING:tensorflow:From /home/deeplearn/anaconda3/lib/python3.6/site-packages/keras/backend/tensorflow_backend.py:1290: calling reduce_mean (from tensorflow.python.ops.math_ops) with keep_dims is deprecated and will be removed in a future version.\n",
      "Instructions for updating:\n",
      "keep_dims is deprecated, use keepdims instead\n"
     ]
    }
   ],
   "source": [
    "# Compile the model\n",
    "model.compile(optimizer = optimizer , \n",
    "              loss = \"categorical_crossentropy\", \n",
    "              metrics=[\"accuracy\"])"
   ]
  },
  {
   "cell_type": "markdown",
   "metadata": {},
   "source": [
    "<img src=\"http://img1.imagilive.com/0717/learningrates.jpg\"> </img>\n",
    "\n",
    "In order to make the optimizer converge faster and closest to the global minimum of the loss function, i used an annealing method of the learning rate (LR).\n",
    "\n",
    "The LR is the step by which the optimizer walks through the 'loss landscape'. The higher LR, the bigger are the steps and the quicker is the convergence. However the sampling is very poor with an high LR and the optimizer could probably fall into a local minima.\n",
    "\n",
    "Its better to have a decreasing learning rate during the training to reach efficiently the global minimum of the loss function. \n",
    "\n",
    "To keep the advantage of the fast computation time with a high LR, i decreased the LR dynamically every X steps (epochs) depending if it is necessary (when accuracy is not improved).\n",
    "\n",
    "With the ReduceLROnPlateau function from Keras.callbacks, i choose to reduce the LR by half if the accuracy is not improved after 3 epochs."
   ]
  },
  {
   "cell_type": "code",
   "execution_count": 18,
   "metadata": {
    "collapsed": true
   },
   "outputs": [],
   "source": [
    "# Set a learning rate annealer\n",
    "learning_rate_reduction = ReduceLROnPlateau(monitor='val_acc', \n",
    "                                            patience=3, \n",
    "                                            verbose=1, \n",
    "                                            factor=0.5, \n",
    "                                            min_lr=0.00001)"
   ]
  },
  {
   "cell_type": "code",
   "execution_count": 19,
   "metadata": {
    "collapsed": true
   },
   "outputs": [],
   "source": [
    "epochs = 200 # Turn epochs to 30 to get 0.9967 accuracy\n",
    "batch_size = 100"
   ]
  },
  {
   "cell_type": "markdown",
   "metadata": {},
   "source": [
    "## 3.3 Data Augmentation\n",
    "\n",
    "In order to avoid overfitting problem, we need to expand artificially our handwritten digit dataset. We can make your existing dataset even larger. The idea is to alter the training data with small transformations to reproduce the variations occuring when someone is writing a digit.\n",
    "\n",
    "For example, the number is not centered \n",
    "The scale is not the same (some who write with big/small numbers)\n",
    "The image is rotated...\n",
    "\n",
    "Approaches that alter the training data in ways that change the array representation while keeping the label the same are known as data augmentation techniques. Some popular augmentations people use are grayscales, horizontal flips, vertical flips, random crops, color jitters, translations, rotations, and much more. \n",
    "\n",
    "By applying just a couple of these transformations to our training data, we can easily double or triple the number of training examples and create a very robust model.\n",
    "\n",
    "The improvement is important : \n",
    "   - Without data augmentation i obtained an accuracy of 98.114%\n",
    "   - With data augmentation i achieved 99.67% of accuracy"
   ]
  },
  {
   "cell_type": "code",
   "execution_count": 20,
   "metadata": {
    "collapsed": true
   },
   "outputs": [],
   "source": [
    "# Without data augmentation i obtained an accuracy of 0.98114\n",
    "#history = model.fit(X_train, Y_train, batch_size = batch_size, epochs = epochs, \n",
    "#          validation_data = (X_val, Y_val), verbose = 2)"
   ]
  },
  {
   "cell_type": "code",
   "execution_count": 21,
   "metadata": {
    "collapsed": true
   },
   "outputs": [],
   "source": [
    "# With data augmentation to prevent overfitting (accuracy 0.99286)\n",
    "\n",
    "datagen = ImageDataGenerator(\n",
    "        featurewise_center=False,  # set input mean to 0 over the dataset\n",
    "        samplewise_center=False,  # set each sample mean to 0\n",
    "        featurewise_std_normalization=False,  # divide inputs by std of the dataset\n",
    "        samplewise_std_normalization=False,  # divide each input by its std\n",
    "        zca_whitening=False,  # apply ZCA whitening\n",
    "        rotation_range=10,  # randomly rotate images in the range (degrees, 0 to 180)\n",
    "        zoom_range = 0.1, # Randomly zoom image \n",
    "        width_shift_range=0.1,  # randomly shift images horizontally (fraction of total width)\n",
    "        height_shift_range=0.1,  # randomly shift images vertically (fraction of total height)\n",
    "        horizontal_flip=False,  # randomly flip images\n",
    "        vertical_flip=False)  # randomly flip images\n",
    "\n",
    "\n",
    "datagen.fit(X_train)"
   ]
  },
  {
   "cell_type": "markdown",
   "metadata": {},
   "source": [
    "For the data augmentation, i choosed to :\n",
    "   - Randomly rotate some training images by 10 degrees\n",
    "   - Randomly  Zoom by 10% some training images\n",
    "   - Randomly shift images horizontally by 10% of the width\n",
    "   - Randomly shift images vertically by 10% of the height\n",
    "   \n",
    "I did not apply a vertical_flip nor horizontal_flip since it could have lead to misclassify symetrical numbers such as 6 and 9.\n",
    "\n",
    "Once our model is ready, we fit the training dataset ."
   ]
  },
  {
   "cell_type": "code",
   "execution_count": 22,
   "metadata": {},
   "outputs": [
    {
     "name": "stdout",
     "output_type": "stream",
     "text": [
      "Epoch 1/200\n",
      "5s - loss: 0.4178 - acc: 0.8661 - val_loss: 0.0789 - val_acc: 0.9767\n",
      "Epoch 2/200\n",
      "3s - loss: 0.1363 - acc: 0.9600 - val_loss: 0.0410 - val_acc: 0.9867\n",
      "Epoch 3/200\n",
      "3s - loss: 0.1059 - acc: 0.9678 - val_loss: 0.0443 - val_acc: 0.9871\n",
      "Epoch 4/200\n",
      "3s - loss: 0.0900 - acc: 0.9735 - val_loss: 0.0334 - val_acc: 0.9910\n",
      "Epoch 5/200\n",
      "3s - loss: 0.0774 - acc: 0.9767 - val_loss: 0.0369 - val_acc: 0.9907\n",
      "Epoch 6/200\n",
      "3s - loss: 0.0729 - acc: 0.9791 - val_loss: 0.0350 - val_acc: 0.9874\n",
      "Epoch 7/200\n",
      "3s - loss: 0.0703 - acc: 0.9795 - val_loss: 0.0271 - val_acc: 0.9924\n",
      "Epoch 8/200\n",
      "3s - loss: 0.0708 - acc: 0.9797 - val_loss: 0.0232 - val_acc: 0.9917\n",
      "Epoch 9/200\n",
      "3s - loss: 0.0679 - acc: 0.9806 - val_loss: 0.0252 - val_acc: 0.9924\n",
      "Epoch 10/200\n",
      "3s - loss: 0.0699 - acc: 0.9800 - val_loss: 0.0201 - val_acc: 0.9921\n",
      "Epoch 11/200\n",
      "3s - loss: 0.0692 - acc: 0.9816 - val_loss: 0.0210 - val_acc: 0.9933\n",
      "Epoch 12/200\n",
      "3s - loss: 0.0691 - acc: 0.9811 - val_loss: 0.0245 - val_acc: 0.9910\n",
      "Epoch 13/200\n",
      "3s - loss: 0.0700 - acc: 0.9808 - val_loss: 0.0309 - val_acc: 0.9910\n",
      "Epoch 14/200\n",
      "3s - loss: 0.0680 - acc: 0.9820 - val_loss: 0.0283 - val_acc: 0.9931\n",
      "Epoch 15/200\n",
      "\n",
      "Epoch 00014: reducing learning rate to 0.0005000000237487257.\n",
      "3s - loss: 0.0673 - acc: 0.9814 - val_loss: 0.0230 - val_acc: 0.9924\n",
      "Epoch 16/200\n",
      "3s - loss: 0.0556 - acc: 0.9848 - val_loss: 0.0167 - val_acc: 0.9952\n",
      "Epoch 17/200\n",
      "3s - loss: 0.0559 - acc: 0.9850 - val_loss: 0.0175 - val_acc: 0.9943\n",
      "Epoch 18/200\n",
      "3s - loss: 0.0567 - acc: 0.9848 - val_loss: 0.0194 - val_acc: 0.9950\n",
      "Epoch 19/200\n",
      "3s - loss: 0.0549 - acc: 0.9851 - val_loss: 0.0571 - val_acc: 0.9943\n",
      "Epoch 20/200\n",
      "3s - loss: 0.0557 - acc: 0.9856 - val_loss: 0.0154 - val_acc: 0.9955\n",
      "Epoch 21/200\n",
      "3s - loss: 0.0529 - acc: 0.9846 - val_loss: 0.0197 - val_acc: 0.9945\n",
      "Epoch 22/200\n",
      "3s - loss: 0.0565 - acc: 0.9847 - val_loss: 0.0225 - val_acc: 0.9940\n",
      "Epoch 23/200\n",
      "3s - loss: 0.0547 - acc: 0.9848 - val_loss: 0.0198 - val_acc: 0.9948\n",
      "Epoch 24/200\n",
      "\n",
      "Epoch 00023: reducing learning rate to 0.0002500000118743628.\n",
      "3s - loss: 0.0550 - acc: 0.9847 - val_loss: 0.0198 - val_acc: 0.9950\n",
      "Epoch 25/200\n",
      "3s - loss: 0.0430 - acc: 0.9881 - val_loss: 0.0173 - val_acc: 0.9948\n",
      "Epoch 26/200\n",
      "3s - loss: 0.0474 - acc: 0.9864 - val_loss: 0.0164 - val_acc: 0.9950\n",
      "Epoch 27/200\n",
      "\n",
      "Epoch 00026: reducing learning rate to 0.0001250000059371814.\n",
      "3s - loss: 0.0484 - acc: 0.9878 - val_loss: 0.0162 - val_acc: 0.9948\n",
      "Epoch 28/200\n",
      "3s - loss: 0.0419 - acc: 0.9883 - val_loss: 0.0154 - val_acc: 0.9952\n",
      "Epoch 29/200\n",
      "3s - loss: 0.0401 - acc: 0.9886 - val_loss: 0.0153 - val_acc: 0.9943\n",
      "Epoch 30/200\n",
      "\n",
      "Epoch 00029: reducing learning rate to 6.25000029685907e-05.\n",
      "3s - loss: 0.0410 - acc: 0.9877 - val_loss: 0.0151 - val_acc: 0.9952\n",
      "Epoch 31/200\n",
      "3s - loss: 0.0392 - acc: 0.9888 - val_loss: 0.0146 - val_acc: 0.9957\n",
      "Epoch 32/200\n",
      "3s - loss: 0.0419 - acc: 0.9886 - val_loss: 0.0135 - val_acc: 0.9967\n",
      "Epoch 33/200\n",
      "3s - loss: 0.0381 - acc: 0.9889 - val_loss: 0.0138 - val_acc: 0.9957\n",
      "Epoch 34/200\n",
      "3s - loss: 0.0379 - acc: 0.9892 - val_loss: 0.0140 - val_acc: 0.9960\n",
      "Epoch 35/200\n",
      "3s - loss: 0.0371 - acc: 0.9891 - val_loss: 0.0147 - val_acc: 0.9950\n",
      "Epoch 36/200\n",
      "\n",
      "Epoch 00035: reducing learning rate to 3.125000148429535e-05.\n",
      "3s - loss: 0.0410 - acc: 0.9882 - val_loss: 0.0137 - val_acc: 0.9957\n",
      "Epoch 37/200\n",
      "3s - loss: 0.0389 - acc: 0.9887 - val_loss: 0.0143 - val_acc: 0.9952\n",
      "Epoch 38/200\n",
      "3s - loss: 0.0359 - acc: 0.9894 - val_loss: 0.0139 - val_acc: 0.9957\n",
      "Epoch 39/200\n",
      "\n",
      "Epoch 00038: reducing learning rate to 1.5625000742147677e-05.\n",
      "3s - loss: 0.0371 - acc: 0.9887 - val_loss: 0.0141 - val_acc: 0.9957\n",
      "Epoch 40/200\n",
      "3s - loss: 0.0389 - acc: 0.9889 - val_loss: 0.0145 - val_acc: 0.9960\n",
      "Epoch 41/200\n",
      "3s - loss: 0.0373 - acc: 0.9898 - val_loss: 0.0142 - val_acc: 0.9952\n",
      "Epoch 42/200\n",
      "\n",
      "Epoch 00041: reducing learning rate to 1e-05.\n",
      "3s - loss: 0.0399 - acc: 0.9885 - val_loss: 0.0143 - val_acc: 0.9960\n",
      "Epoch 43/200\n",
      "3s - loss: 0.0367 - acc: 0.9900 - val_loss: 0.0137 - val_acc: 0.9960\n",
      "Epoch 44/200\n",
      "3s - loss: 0.0371 - acc: 0.9896 - val_loss: 0.0138 - val_acc: 0.9960\n",
      "Epoch 45/200\n",
      "3s - loss: 0.0384 - acc: 0.9895 - val_loss: 0.0140 - val_acc: 0.9960\n",
      "Epoch 46/200\n",
      "3s - loss: 0.0371 - acc: 0.9892 - val_loss: 0.0134 - val_acc: 0.9960\n",
      "Epoch 47/200\n",
      "3s - loss: 0.0346 - acc: 0.9903 - val_loss: 0.0134 - val_acc: 0.9962\n",
      "Epoch 48/200\n",
      "3s - loss: 0.0341 - acc: 0.9903 - val_loss: 0.0133 - val_acc: 0.9962\n",
      "Epoch 49/200\n",
      "3s - loss: 0.0367 - acc: 0.9897 - val_loss: 0.0135 - val_acc: 0.9962\n",
      "Epoch 50/200\n",
      "3s - loss: 0.0365 - acc: 0.9893 - val_loss: 0.0139 - val_acc: 0.9962\n",
      "Epoch 51/200\n",
      "3s - loss: 0.0374 - acc: 0.9898 - val_loss: 0.0135 - val_acc: 0.9955\n",
      "Epoch 52/200\n",
      "3s - loss: 0.0356 - acc: 0.9903 - val_loss: 0.0135 - val_acc: 0.9955\n",
      "Epoch 53/200\n",
      "3s - loss: 0.0384 - acc: 0.9892 - val_loss: 0.0129 - val_acc: 0.9967\n",
      "Epoch 54/200\n",
      "3s - loss: 0.0371 - acc: 0.9895 - val_loss: 0.0135 - val_acc: 0.9967\n",
      "Epoch 55/200\n",
      "3s - loss: 0.0361 - acc: 0.9901 - val_loss: 0.0130 - val_acc: 0.9962\n",
      "Epoch 56/200\n",
      "3s - loss: 0.0346 - acc: 0.9898 - val_loss: 0.0134 - val_acc: 0.9960\n",
      "Epoch 57/200\n",
      "3s - loss: 0.0374 - acc: 0.9896 - val_loss: 0.0131 - val_acc: 0.9964\n",
      "Epoch 58/200\n",
      "3s - loss: 0.0355 - acc: 0.9895 - val_loss: 0.0132 - val_acc: 0.9962\n",
      "Epoch 59/200\n",
      "3s - loss: 0.0351 - acc: 0.9898 - val_loss: 0.0132 - val_acc: 0.9967\n",
      "Epoch 60/200\n",
      "3s - loss: 0.0394 - acc: 0.9891 - val_loss: 0.0141 - val_acc: 0.9960\n",
      "Epoch 61/200\n",
      "3s - loss: 0.0367 - acc: 0.9894 - val_loss: 0.0139 - val_acc: 0.9957\n",
      "Epoch 62/200\n",
      "3s - loss: 0.0373 - acc: 0.9898 - val_loss: 0.0141 - val_acc: 0.9964\n",
      "Epoch 63/200\n",
      "3s - loss: 0.0352 - acc: 0.9904 - val_loss: 0.0136 - val_acc: 0.9960\n",
      "Epoch 64/200\n",
      "3s - loss: 0.0369 - acc: 0.9895 - val_loss: 0.0142 - val_acc: 0.9955\n",
      "Epoch 65/200\n",
      "3s - loss: 0.0352 - acc: 0.9899 - val_loss: 0.0136 - val_acc: 0.9964\n",
      "Epoch 66/200\n",
      "3s - loss: 0.0364 - acc: 0.9895 - val_loss: 0.0137 - val_acc: 0.9960\n",
      "Epoch 67/200\n",
      "3s - loss: 0.0373 - acc: 0.9896 - val_loss: 0.0135 - val_acc: 0.9962\n",
      "Epoch 68/200\n",
      "3s - loss: 0.0339 - acc: 0.9903 - val_loss: 0.0133 - val_acc: 0.9960\n",
      "Epoch 69/200\n",
      "3s - loss: 0.0346 - acc: 0.9898 - val_loss: 0.0134 - val_acc: 0.9964\n",
      "Epoch 70/200\n",
      "3s - loss: 0.0351 - acc: 0.9899 - val_loss: 0.0133 - val_acc: 0.9964\n",
      "Epoch 71/200\n",
      "3s - loss: 0.0357 - acc: 0.9894 - val_loss: 0.0135 - val_acc: 0.9964\n",
      "Epoch 72/200\n",
      "3s - loss: 0.0344 - acc: 0.9900 - val_loss: 0.0134 - val_acc: 0.9967\n",
      "Epoch 73/200\n",
      "3s - loss: 0.0381 - acc: 0.9894 - val_loss: 0.0142 - val_acc: 0.9962\n",
      "Epoch 74/200\n",
      "3s - loss: 0.0340 - acc: 0.9899 - val_loss: 0.0132 - val_acc: 0.9962\n",
      "Epoch 75/200\n",
      "3s - loss: 0.0344 - acc: 0.9901 - val_loss: 0.0132 - val_acc: 0.9962\n",
      "Epoch 76/200\n",
      "3s - loss: 0.0358 - acc: 0.9901 - val_loss: 0.0131 - val_acc: 0.9962\n",
      "Epoch 77/200\n",
      "3s - loss: 0.0343 - acc: 0.9900 - val_loss: 0.0129 - val_acc: 0.9962\n",
      "Epoch 78/200\n",
      "3s - loss: 0.0376 - acc: 0.9897 - val_loss: 0.0136 - val_acc: 0.9960\n",
      "Epoch 79/200\n",
      "3s - loss: 0.0355 - acc: 0.9894 - val_loss: 0.0138 - val_acc: 0.9962\n",
      "Epoch 80/200\n",
      "3s - loss: 0.0359 - acc: 0.9898 - val_loss: 0.0141 - val_acc: 0.9957\n",
      "Epoch 81/200\n",
      "3s - loss: 0.0340 - acc: 0.9901 - val_loss: 0.0135 - val_acc: 0.9960\n",
      "Epoch 82/200\n",
      "3s - loss: 0.0329 - acc: 0.9906 - val_loss: 0.0133 - val_acc: 0.9957\n",
      "Epoch 83/200\n",
      "3s - loss: 0.0377 - acc: 0.9896 - val_loss: 0.0136 - val_acc: 0.9962\n",
      "Epoch 84/200\n",
      "3s - loss: 0.0384 - acc: 0.9890 - val_loss: 0.0138 - val_acc: 0.9962\n",
      "Epoch 85/200\n",
      "3s - loss: 0.0338 - acc: 0.9905 - val_loss: 0.0135 - val_acc: 0.9960\n",
      "Epoch 86/200\n",
      "3s - loss: 0.0359 - acc: 0.9893 - val_loss: 0.0135 - val_acc: 0.9964\n",
      "Epoch 87/200\n",
      "3s - loss: 0.0361 - acc: 0.9896 - val_loss: 0.0136 - val_acc: 0.9960\n",
      "Epoch 88/200\n",
      "3s - loss: 0.0373 - acc: 0.9890 - val_loss: 0.0135 - val_acc: 0.9960\n",
      "Epoch 89/200\n",
      "3s - loss: 0.0354 - acc: 0.9893 - val_loss: 0.0138 - val_acc: 0.9967\n",
      "Epoch 90/200\n",
      "3s - loss: 0.0359 - acc: 0.9895 - val_loss: 0.0137 - val_acc: 0.9957\n",
      "Epoch 91/200\n",
      "3s - loss: 0.0364 - acc: 0.9893 - val_loss: 0.0134 - val_acc: 0.9960\n",
      "Epoch 92/200\n",
      "3s - loss: 0.0365 - acc: 0.9893 - val_loss: 0.0138 - val_acc: 0.9960\n",
      "Epoch 93/200\n",
      "3s - loss: 0.0367 - acc: 0.9893 - val_loss: 0.0135 - val_acc: 0.9960\n",
      "Epoch 94/200\n",
      "3s - loss: 0.0378 - acc: 0.9890 - val_loss: 0.0135 - val_acc: 0.9960\n",
      "Epoch 95/200\n",
      "3s - loss: 0.0341 - acc: 0.9903 - val_loss: 0.0131 - val_acc: 0.9962\n",
      "Epoch 96/200\n"
     ]
    },
    {
     "name": "stdout",
     "output_type": "stream",
     "text": [
      "3s - loss: 0.0370 - acc: 0.9890 - val_loss: 0.0135 - val_acc: 0.9962\n",
      "Epoch 97/200\n",
      "3s - loss: 0.0357 - acc: 0.9903 - val_loss: 0.0134 - val_acc: 0.9962\n",
      "Epoch 98/200\n",
      "3s - loss: 0.0339 - acc: 0.9906 - val_loss: 0.0129 - val_acc: 0.9960\n",
      "Epoch 99/200\n",
      "3s - loss: 0.0383 - acc: 0.9890 - val_loss: 0.0139 - val_acc: 0.9964\n",
      "Epoch 100/200\n",
      "3s - loss: 0.0358 - acc: 0.9894 - val_loss: 0.0137 - val_acc: 0.9960\n",
      "Epoch 101/200\n",
      "3s - loss: 0.0351 - acc: 0.9895 - val_loss: 0.0139 - val_acc: 0.9960\n",
      "Epoch 102/200\n",
      "3s - loss: 0.0376 - acc: 0.9895 - val_loss: 0.0141 - val_acc: 0.9962\n",
      "Epoch 103/200\n",
      "3s - loss: 0.0366 - acc: 0.9890 - val_loss: 0.0140 - val_acc: 0.9960\n",
      "Epoch 104/200\n",
      "3s - loss: 0.0370 - acc: 0.9896 - val_loss: 0.0136 - val_acc: 0.9957\n",
      "Epoch 105/200\n",
      "3s - loss: 0.0360 - acc: 0.9903 - val_loss: 0.0136 - val_acc: 0.9960\n",
      "Epoch 106/200\n",
      "3s - loss: 0.0320 - acc: 0.9907 - val_loss: 0.0135 - val_acc: 0.9962\n",
      "Epoch 107/200\n",
      "3s - loss: 0.0372 - acc: 0.9895 - val_loss: 0.0138 - val_acc: 0.9960\n",
      "Epoch 108/200\n",
      "3s - loss: 0.0394 - acc: 0.9889 - val_loss: 0.0144 - val_acc: 0.9957\n",
      "Epoch 109/200\n",
      "3s - loss: 0.0358 - acc: 0.9900 - val_loss: 0.0134 - val_acc: 0.9960\n",
      "Epoch 110/200\n",
      "3s - loss: 0.0367 - acc: 0.9898 - val_loss: 0.0139 - val_acc: 0.9960\n",
      "Epoch 111/200\n",
      "3s - loss: 0.0366 - acc: 0.9893 - val_loss: 0.0139 - val_acc: 0.9960\n",
      "Epoch 112/200\n",
      "3s - loss: 0.0345 - acc: 0.9901 - val_loss: 0.0145 - val_acc: 0.9957\n",
      "Epoch 113/200\n",
      "3s - loss: 0.0362 - acc: 0.9896 - val_loss: 0.0140 - val_acc: 0.9955\n",
      "Epoch 114/200\n",
      "3s - loss: 0.0348 - acc: 0.9900 - val_loss: 0.0141 - val_acc: 0.9955\n",
      "Epoch 115/200\n",
      "3s - loss: 0.0366 - acc: 0.9899 - val_loss: 0.0135 - val_acc: 0.9962\n",
      "Epoch 116/200\n",
      "3s - loss: 0.0360 - acc: 0.9894 - val_loss: 0.0136 - val_acc: 0.9962\n",
      "Epoch 117/200\n",
      "3s - loss: 0.0361 - acc: 0.9895 - val_loss: 0.0137 - val_acc: 0.9957\n",
      "Epoch 118/200\n",
      "3s - loss: 0.0380 - acc: 0.9892 - val_loss: 0.0139 - val_acc: 0.9962\n",
      "Epoch 119/200\n",
      "3s - loss: 0.0351 - acc: 0.9898 - val_loss: 0.0137 - val_acc: 0.9957\n",
      "Epoch 120/200\n",
      "3s - loss: 0.0363 - acc: 0.9896 - val_loss: 0.0138 - val_acc: 0.9962\n",
      "Epoch 121/200\n",
      "3s - loss: 0.0358 - acc: 0.9898 - val_loss: 0.0135 - val_acc: 0.9957\n",
      "Epoch 122/200\n",
      "3s - loss: 0.0353 - acc: 0.9901 - val_loss: 0.0142 - val_acc: 0.9960\n",
      "Epoch 123/200\n",
      "3s - loss: 0.0340 - acc: 0.9905 - val_loss: 0.0133 - val_acc: 0.9957\n",
      "Epoch 124/200\n",
      "3s - loss: 0.0366 - acc: 0.9896 - val_loss: 0.0138 - val_acc: 0.9955\n",
      "Epoch 125/200\n",
      "3s - loss: 0.0367 - acc: 0.9897 - val_loss: 0.0138 - val_acc: 0.9955\n",
      "Epoch 126/200\n",
      "3s - loss: 0.0358 - acc: 0.9906 - val_loss: 0.0138 - val_acc: 0.9955\n",
      "Epoch 127/200\n",
      "3s - loss: 0.0360 - acc: 0.9896 - val_loss: 0.0134 - val_acc: 0.9960\n",
      "Epoch 128/200\n",
      "3s - loss: 0.0352 - acc: 0.9900 - val_loss: 0.0134 - val_acc: 0.9957\n",
      "Epoch 129/200\n",
      "3s - loss: 0.0379 - acc: 0.9889 - val_loss: 0.0134 - val_acc: 0.9960\n",
      "Epoch 130/200\n",
      "3s - loss: 0.0357 - acc: 0.9900 - val_loss: 0.0138 - val_acc: 0.9957\n",
      "Epoch 131/200\n",
      "3s - loss: 0.0377 - acc: 0.9892 - val_loss: 0.0133 - val_acc: 0.9957\n",
      "Epoch 132/200\n",
      "3s - loss: 0.0358 - acc: 0.9896 - val_loss: 0.0134 - val_acc: 0.9960\n",
      "Epoch 133/200\n",
      "3s - loss: 0.0351 - acc: 0.9900 - val_loss: 0.0136 - val_acc: 0.9960\n",
      "Epoch 134/200\n",
      "3s - loss: 0.0352 - acc: 0.9898 - val_loss: 0.0136 - val_acc: 0.9962\n",
      "Epoch 135/200\n",
      "3s - loss: 0.0376 - acc: 0.9890 - val_loss: 0.0136 - val_acc: 0.9962\n",
      "Epoch 136/200\n",
      "3s - loss: 0.0343 - acc: 0.9902 - val_loss: 0.0135 - val_acc: 0.9960\n",
      "Epoch 137/200\n",
      "3s - loss: 0.0355 - acc: 0.9899 - val_loss: 0.0137 - val_acc: 0.9957\n",
      "Epoch 138/200\n",
      "3s - loss: 0.0367 - acc: 0.9897 - val_loss: 0.0135 - val_acc: 0.9960\n",
      "Epoch 139/200\n",
      "3s - loss: 0.0341 - acc: 0.9905 - val_loss: 0.0140 - val_acc: 0.9962\n",
      "Epoch 140/200\n",
      "3s - loss: 0.0340 - acc: 0.9905 - val_loss: 0.0142 - val_acc: 0.9955\n",
      "Epoch 141/200\n",
      "3s - loss: 0.0368 - acc: 0.9891 - val_loss: 0.0135 - val_acc: 0.9962\n",
      "Epoch 142/200\n",
      "3s - loss: 0.0340 - acc: 0.9895 - val_loss: 0.0135 - val_acc: 0.9960\n",
      "Epoch 143/200\n",
      "3s - loss: 0.0351 - acc: 0.9897 - val_loss: 0.0134 - val_acc: 0.9960\n",
      "Epoch 144/200\n",
      "3s - loss: 0.0342 - acc: 0.9897 - val_loss: 0.0138 - val_acc: 0.9957\n",
      "Epoch 145/200\n",
      "3s - loss: 0.0344 - acc: 0.9896 - val_loss: 0.0135 - val_acc: 0.9957\n",
      "Epoch 146/200\n",
      "3s - loss: 0.0372 - acc: 0.9894 - val_loss: 0.0138 - val_acc: 0.9957\n",
      "Epoch 147/200\n",
      "3s - loss: 0.0365 - acc: 0.9894 - val_loss: 0.0136 - val_acc: 0.9957\n",
      "Epoch 148/200\n",
      "3s - loss: 0.0353 - acc: 0.9897 - val_loss: 0.0135 - val_acc: 0.9960\n",
      "Epoch 149/200\n",
      "3s - loss: 0.0354 - acc: 0.9897 - val_loss: 0.0133 - val_acc: 0.9957\n",
      "Epoch 150/200\n",
      "3s - loss: 0.0318 - acc: 0.9907 - val_loss: 0.0134 - val_acc: 0.9960\n",
      "Epoch 151/200\n",
      "3s - loss: 0.0393 - acc: 0.9888 - val_loss: 0.0135 - val_acc: 0.9962\n",
      "Epoch 152/200\n",
      "3s - loss: 0.0356 - acc: 0.9902 - val_loss: 0.0140 - val_acc: 0.9960\n",
      "Epoch 153/200\n",
      "3s - loss: 0.0364 - acc: 0.9903 - val_loss: 0.0138 - val_acc: 0.9957\n",
      "Epoch 154/200\n",
      "3s - loss: 0.0356 - acc: 0.9896 - val_loss: 0.0142 - val_acc: 0.9957\n",
      "Epoch 155/200\n",
      "3s - loss: 0.0373 - acc: 0.9892 - val_loss: 0.0142 - val_acc: 0.9957\n",
      "Epoch 156/200\n",
      "3s - loss: 0.0339 - acc: 0.9897 - val_loss: 0.0141 - val_acc: 0.9960\n",
      "Epoch 157/200\n",
      "3s - loss: 0.0345 - acc: 0.9899 - val_loss: 0.0135 - val_acc: 0.9964\n",
      "Epoch 158/200\n",
      "3s - loss: 0.0347 - acc: 0.9903 - val_loss: 0.0138 - val_acc: 0.9957\n",
      "Epoch 159/200\n",
      "3s - loss: 0.0356 - acc: 0.9898 - val_loss: 0.0135 - val_acc: 0.9955\n",
      "Epoch 160/200\n",
      "3s - loss: 0.0364 - acc: 0.9893 - val_loss: 0.0136 - val_acc: 0.9957\n",
      "Epoch 161/200\n",
      "3s - loss: 0.0330 - acc: 0.9906 - val_loss: 0.0135 - val_acc: 0.9955\n",
      "Epoch 162/200\n",
      "3s - loss: 0.0384 - acc: 0.9895 - val_loss: 0.0139 - val_acc: 0.9957\n",
      "Epoch 163/200\n",
      "3s - loss: 0.0334 - acc: 0.9903 - val_loss: 0.0131 - val_acc: 0.9960\n",
      "Epoch 164/200\n",
      "3s - loss: 0.0370 - acc: 0.9896 - val_loss: 0.0135 - val_acc: 0.9957\n",
      "Epoch 165/200\n",
      "3s - loss: 0.0333 - acc: 0.9898 - val_loss: 0.0142 - val_acc: 0.9957\n",
      "Epoch 166/200\n",
      "3s - loss: 0.0336 - acc: 0.9908 - val_loss: 0.0134 - val_acc: 0.9960\n",
      "Epoch 167/200\n",
      "3s - loss: 0.0360 - acc: 0.9898 - val_loss: 0.0134 - val_acc: 0.9957\n",
      "Epoch 168/200\n",
      "3s - loss: 0.0359 - acc: 0.9899 - val_loss: 0.0141 - val_acc: 0.9957\n",
      "Epoch 169/200\n",
      "3s - loss: 0.0359 - acc: 0.9898 - val_loss: 0.0139 - val_acc: 0.9960\n",
      "Epoch 170/200\n",
      "3s - loss: 0.0374 - acc: 0.9893 - val_loss: 0.0143 - val_acc: 0.9957\n",
      "Epoch 171/200\n",
      "3s - loss: 0.0366 - acc: 0.9899 - val_loss: 0.0140 - val_acc: 0.9957\n",
      "Epoch 172/200\n",
      "3s - loss: 0.0338 - acc: 0.9903 - val_loss: 0.0140 - val_acc: 0.9957\n",
      "Epoch 173/200\n",
      "3s - loss: 0.0365 - acc: 0.9901 - val_loss: 0.0139 - val_acc: 0.9960\n",
      "Epoch 174/200\n",
      "3s - loss: 0.0360 - acc: 0.9895 - val_loss: 0.0139 - val_acc: 0.9955\n",
      "Epoch 175/200\n",
      "3s - loss: 0.0347 - acc: 0.9899 - val_loss: 0.0140 - val_acc: 0.9957\n",
      "Epoch 176/200\n",
      "3s - loss: 0.0374 - acc: 0.9892 - val_loss: 0.0143 - val_acc: 0.9957\n",
      "Epoch 177/200\n",
      "3s - loss: 0.0370 - acc: 0.9891 - val_loss: 0.0133 - val_acc: 0.9960\n",
      "Epoch 178/200\n",
      "3s - loss: 0.0337 - acc: 0.9900 - val_loss: 0.0137 - val_acc: 0.9960\n",
      "Epoch 179/200\n",
      "3s - loss: 0.0348 - acc: 0.9901 - val_loss: 0.0148 - val_acc: 0.9957\n",
      "Epoch 180/200\n",
      "3s - loss: 0.0352 - acc: 0.9894 - val_loss: 0.0133 - val_acc: 0.9955\n",
      "Epoch 181/200\n",
      "3s - loss: 0.0348 - acc: 0.9898 - val_loss: 0.0140 - val_acc: 0.9955\n",
      "Epoch 182/200\n",
      "3s - loss: 0.0368 - acc: 0.9891 - val_loss: 0.0142 - val_acc: 0.9955\n",
      "Epoch 183/200\n",
      "3s - loss: 0.0386 - acc: 0.9899 - val_loss: 0.0139 - val_acc: 0.9960\n",
      "Epoch 184/200\n",
      "3s - loss: 0.0364 - acc: 0.9904 - val_loss: 0.0137 - val_acc: 0.9955\n",
      "Epoch 185/200\n",
      "3s - loss: 0.0337 - acc: 0.9906 - val_loss: 0.0138 - val_acc: 0.9955\n",
      "Epoch 186/200\n",
      "3s - loss: 0.0326 - acc: 0.9906 - val_loss: 0.0138 - val_acc: 0.9955\n",
      "Epoch 187/200\n",
      "3s - loss: 0.0320 - acc: 0.9902 - val_loss: 0.0133 - val_acc: 0.9957\n",
      "Epoch 188/200\n",
      "3s - loss: 0.0362 - acc: 0.9896 - val_loss: 0.0140 - val_acc: 0.9955\n",
      "Epoch 189/200\n",
      "3s - loss: 0.0367 - acc: 0.9890 - val_loss: 0.0140 - val_acc: 0.9955\n",
      "Epoch 190/200\n",
      "3s - loss: 0.0331 - acc: 0.9902 - val_loss: 0.0142 - val_acc: 0.9960\n",
      "Epoch 191/200\n",
      "3s - loss: 0.0366 - acc: 0.9899 - val_loss: 0.0138 - val_acc: 0.9962\n",
      "Epoch 192/200\n",
      "3s - loss: 0.0372 - acc: 0.9887 - val_loss: 0.0135 - val_acc: 0.9960\n",
      "Epoch 193/200\n",
      "3s - loss: 0.0374 - acc: 0.9889 - val_loss: 0.0139 - val_acc: 0.9962\n",
      "Epoch 194/200\n",
      "3s - loss: 0.0372 - acc: 0.9897 - val_loss: 0.0142 - val_acc: 0.9955\n",
      "Epoch 195/200\n"
     ]
    },
    {
     "name": "stdout",
     "output_type": "stream",
     "text": [
      "3s - loss: 0.0338 - acc: 0.9904 - val_loss: 0.0139 - val_acc: 0.9962\n",
      "Epoch 196/200\n",
      "3s - loss: 0.0361 - acc: 0.9899 - val_loss: 0.0132 - val_acc: 0.9957\n",
      "Epoch 197/200\n",
      "3s - loss: 0.0356 - acc: 0.9899 - val_loss: 0.0141 - val_acc: 0.9960\n",
      "Epoch 198/200\n",
      "3s - loss: 0.0368 - acc: 0.9894 - val_loss: 0.0134 - val_acc: 0.9960\n",
      "Epoch 199/200\n",
      "3s - loss: 0.0349 - acc: 0.9895 - val_loss: 0.0138 - val_acc: 0.9955\n",
      "Epoch 200/200\n",
      "3s - loss: 0.0338 - acc: 0.9896 - val_loss: 0.0135 - val_acc: 0.9962\n"
     ]
    }
   ],
   "source": [
    "# Fit the model\n",
    "history = model.fit_generator(datagen.flow(X_train,Y_train, batch_size=batch_size),\n",
    "                              epochs = epochs, validation_data = (X_val,Y_val),\n",
    "                              verbose = 2, steps_per_epoch=X_train.shape[0] // batch_size\n",
    "                              , callbacks=[learning_rate_reduction])"
   ]
  },
  {
   "cell_type": "markdown",
   "metadata": {},
   "source": [
    "# 4. Evaluate the model\n",
    "## 4.1 Training and validation curves\n",
    "\n"
   ]
  },
  {
   "cell_type": "code",
   "execution_count": 23,
   "metadata": {},
   "outputs": [
    {
     "data": {
      "image/png": "[encoded data removed]",
      "text/plain": [
       "<matplotlib.figure.Figure at 0x7f52d2f4d0f0>"
      ]
     },
     "metadata": {},
     "output_type": "display_data"
    }
   ],
   "source": [
    "# Plot the loss and accuracy curves for training and validation \n",
    "fig, ax = plt.subplots(2,1)\n",
    "ax[0].plot(history.history['loss'], color='b', label=\"Training loss\")\n",
    "ax[0].plot(history.history['val_loss'], color='r', label=\"validation loss\",axes =ax[0])\n",
    "legend = ax[0].legend(loc='best', shadow=True)\n",
    "\n",
    "ax[1].plot(history.history['acc'], color='b', label=\"Training accuracy\")\n",
    "ax[1].plot(history.history['val_acc'], color='r',label=\"Validation accuracy\")\n",
    "legend = ax[1].legend(loc='best', shadow=True)"
   ]
  },
  {
   "cell_type": "markdown",
   "metadata": {},
   "source": [
    "The code below is for plotting loss and accuracy curves for training and validation. Since, i set epochs = 2 on this notebook .\n",
    "I'll show you the training and validation curves i obtained from the model i build with 30 epochs (2h30)b\n",
    "\n",
    "<img src=\"http://img1.imagilive.com/0717/mnist_099671_train_val_loss_acc.png\"></img>\n",
    "\n",
    "The model reaches almost 99% (98.7+%) accuracy on the validation dataset after 2 epochs. The validation accuracy is greater than the training accuracy almost evry time during the training. That means that our model dosen't not overfit the training set.\n",
    "\n",
    "Our model is very well trained  !!! \n",
    "\n",
    "<img src=\"http://img1.imagilive.com/0717/accuracies1de.jpg\"/>"
   ]
  },
  {
   "cell_type": "markdown",
   "metadata": {},
   "source": [
    "## 4.2 Confusion Matrix\n",
    "\n",
    "Confusion matrix can be very helpfull to see your model drawbacks.\n",
    "\n",
    "I plot the confusion matrix of the validation results."
   ]
  },
  {
   "cell_type": "code",
   "execution_count": 24,
   "metadata": {},
   "outputs": [
    {
     "data": {
      "image/png": "[encoded data removed]",
      "text/plain": [
       "<matplotlib.figure.Figure at 0x7f52d46adba8>"
      ]
     },
     "metadata": {},
     "output_type": "display_data"
    }
   ],
   "source": [
    "# Look at confusion matrix \n",
    "\n",
    "def plot_confusion_matrix(cm, classes,\n",
    "                          normalize=False,\n",
    "                          title='Confusion matrix',\n",
    "                          cmap=plt.cm.Blues):\n",
    "    \"\"\"\n",
    "    This function prints and plots the confusion matrix.\n",
    "    Normalization can be applied by setting `normalize=True`.\n",
    "    \"\"\"\n",
    "    plt.imshow(cm, interpolation='nearest', cmap=cmap)\n",
    "    plt.title(title)\n",
    "    plt.colorbar()\n",
    "    tick_marks = np.arange(len(classes))\n",
    "    plt.xticks(tick_marks, classes, rotation=45)\n",
    "    plt.yticks(tick_marks, classes)\n",
    "\n",
    "    if normalize:\n",
    "        cm = cm.astype('float') / cm.sum(axis=1)[:, np.newaxis]\n",
    "\n",
    "    thresh = cm.max() / 2.\n",
    "    for i, j in itertools.product(range(cm.shape[0]), range(cm.shape[1])):\n",
    "        plt.text(j, i, cm[i, j],\n",
    "                 horizontalalignment=\"center\",\n",
    "                 color=\"white\" if cm[i, j] > thresh else \"black\")\n",
    "\n",
    "    plt.tight_layout()\n",
    "    plt.ylabel('True label')\n",
    "    plt.xlabel('Predicted label')\n",
    "\n",
    "# Predict the values from the validation dataset\n",
    "Y_pred = model.predict(X_val)\n",
    "# Convert predictions classes to one hot vectors \n",
    "Y_pred_classes = np.argmax(Y_pred,axis = 1) \n",
    "# Convert validation observations to one hot vectors\n",
    "Y_true = np.argmax(Y_val,axis = 1) \n",
    "# compute the confusion matrix\n",
    "confusion_mtx = confusion_matrix(Y_true, Y_pred_classes) \n",
    "# plot the confusion matrix\n",
    "plot_confusion_matrix(confusion_mtx, classes = range(10)) "
   ]
  },
  {
   "cell_type": "markdown",
   "metadata": {},
   "source": [
    "Here we can see that our CNN performs very well on all digits with few errors considering the size of the validation set (4 200 images).\n",
    "\n",
    "However, it seems that our CNN has some little troubles with the 4 digits, hey are misclassified as 9. Sometime it is very difficult to catch the difference between 4 and 9 when curves are smooth.\n",
    "\n",
    "**Let's investigate for errors.** \n",
    "\n",
    "I want to see the most important errors . For that purpose i need to get the difference between the probabilities of real value and the predicted ones in the results."
   ]
  },
  {
   "cell_type": "code",
   "execution_count": 25,
   "metadata": {},
   "outputs": [
    {
     "data": {
      "image/png": "[encoded data removed]",
      "text/plain": [
       "<matplotlib.figure.Figure at 0x7f52d2eb9550>"
      ]
     },
     "metadata": {},
     "output_type": "display_data"
    }
   ],
   "source": [
    "# Display some error results \n",
    "\n",
    "# Errors are difference between predicted labels and true labels\n",
    "errors = (Y_pred_classes - Y_true != 0)\n",
    "\n",
    "Y_pred_classes_errors = Y_pred_classes[errors]\n",
    "Y_pred_errors = Y_pred[errors]\n",
    "Y_true_errors = Y_true[errors]\n",
    "X_val_errors = X_val[errors]\n",
    "\n",
    "def display_errors(errors_index,img_errors,pred_errors, obs_errors):\n",
    "    \"\"\" This function shows 6 images with their predicted and real labels\"\"\"\n",
    "    n = 0\n",
    "    nrows = 2\n",
    "    ncols = 3\n",
    "    fig, ax = plt.subplots(nrows,ncols,sharex=True,sharey=True)\n",
    "    for row in range(nrows):\n",
    "        for col in range(ncols):\n",
    "            error = errors_index[n]\n",
    "            ax[row,col].imshow((img_errors[error]).reshape((28,28)))\n",
    "            ax[row,col].set_title(\"Predicted label :{}\\nTrue label :{}\".format(pred_errors[error],obs_errors[error]))\n",
    "            n += 1\n",
    "\n",
    "# Probabilities of the wrong predicted numbers\n",
    "Y_pred_errors_prob = np.max(Y_pred_errors,axis = 1)\n",
    "\n",
    "# Predicted probabilities of the true values in the error set\n",
    "true_prob_errors = np.diagonal(np.take(Y_pred_errors, Y_true_errors, axis=1))\n",
    "\n",
    "# Difference between the probability of the predicted label and the true label\n",
    "delta_pred_true_errors = Y_pred_errors_prob - true_prob_errors\n",
    "\n",
    "# Sorted list of the delta prob errors\n",
    "sorted_dela_errors = np.argsort(delta_pred_true_errors)\n",
    "\n",
    "# Top 6 errors \n",
    "most_important_errors = sorted_dela_errors[-6:]\n",
    "\n",
    "# Show the top 6 errors\n",
    "display_errors(most_important_errors, X_val_errors, Y_pred_classes_errors, Y_true_errors)"
   ]
  },
  {
   "cell_type": "markdown",
   "metadata": {},
   "source": [
    "The most important errors are also the most intrigous. \n",
    "\n",
    "For those six case, the model is not ridiculous. Some of these errors can also be made by humans, especially for one the 9 that is very close to a 4. The last 9 is also very misleading, it seems for me that is a 0."
   ]
  },
  {
   "cell_type": "code",
   "execution_count": 26,
   "metadata": {
    "collapsed": true
   },
   "outputs": [],
   "source": [
    "# predict results\n",
    "results = model.predict(test)\n",
    "\n",
    "# select the indix with the maximum probability\n",
    "results = np.argmax(results,axis = 1)\n",
    "\n",
    "results = pd.Series(results,name=\"Label\")"
   ]
  },
  {
   "cell_type": "code",
   "execution_count": null,
   "metadata": {
    "collapsed": true
   },
   "outputs": [],
   "source": []
  }
 ],
 "metadata": {
  "kernelspec": {
   "display_name": "Python 3",
   "language": "python",
   "name": "python3"
  },
  "language_info": {
   "codemirror_mode": {
    "name": "ipython",
    "version": 3
   },
   "file_extension": ".py",
   "mimetype": "text/x-python",
   "name": "python",
   "nbconvert_exporter": "python",
   "pygments_lexer": "ipython3",
   "version": "3.6.3"
  }
 },
 "nbformat": 4,
 "nbformat_minor": 2
}
