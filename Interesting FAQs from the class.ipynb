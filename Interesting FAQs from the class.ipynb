{
 "cells": [
  {
   "cell_type": "markdown",
   "metadata": {},
   "source": [
    "# FAQs asked in the class\n",
    "\n",
    "Here we will summarize the interesting questions we encountered during the training. The effort here is for **the whole class**, not just us, but the whole class, to create your own found answers as well.\n",
    "\n",
    "## Question 1\n",
    "\n",
    "### Can I see weight distribution as they evolve in the NN? I would like to check the weight of the model after every epoch. How can I do this?\n",
    "\n",
    "```python\n",
    "model = Sequential()\n",
    "model.add(Embedding(max_features, 128, dropout=0.2))\n",
    "model.add(LSTM(128, dropout_W=0.2, dropout_U=0.2))  \n",
    "model.add(Dense(1))\n",
    "model.add(Activation('sigmoid'))\n",
    "model.compile(loss='binary_crossentropy',optimizer='adam',metrics['accuracy'])\n",
    "model.fit(X_train, y_train, batch_size=batch_size, nb_epoch=5 validation_data=(X_test, y_test))\n",
    "```\n",
    "\n",
    "### Answer\n",
    "\n",
    "What you are looking for is a CallBack function. A callback is a Keras function which is called repetitively during the training at key points. It can be after a batch, an epoch or the whole training. [See here for doc and the list of callbacks existing](https://keras.io/callbacks/#usage-of-callbacks).\n",
    "\n",
    "What you want is a custom CallBack that can be created with a `LambdaCallBack` object.\n",
    "\n",
    "As an example::"
   ]
  },
  {
   "cell_type": "markdown",
   "metadata": {},
   "source": [
    "```python\n",
    "from keras.callbacks import LambdaCallback\n",
    "\n",
    "model = Sequential()\n",
    "model.add(Embedding(max_features, 128, dropout=0.2))\n",
    "model.add(LSTM(128, dropout_W=0.2, dropout_U=0.2))  \n",
    "model.add(Dense(1))\n",
    "model.add(Activation('sigmoid'))\n",
    "\n",
    "print_weights = LambdaCallback(on_epoch_end=lambda batch, logs: print(model.layers[0].get_weights()))\n",
    "\n",
    "model.compile(loss='binary_crossentropy',optimizer='adam',metrics['accuracy'])\n",
    "model.fit(X_train, \n",
    "          y_train, \n",
    "          batch_size=batch_size, \n",
    "          nb_epoch=5 validation_data=(X_test, y_test), \n",
    "          callbacks = [print_weights])\n",
    "```\n",
    "\n",
    "the code above should print your embedding weights `model.layers[0].get_weights()` at the end of every epoch. Up to you to print it where you want to make it readable, to dump it into a pickle file,..."
   ]
  },
  {
   "cell_type": "markdown",
   "metadata": {},
   "source": [
    "## Question 2\n",
    "\n",
    "### Can I add 3 or more layers to the MNIST CNN layer? If so, how? (Stefanie)\n",
    "\n",
    "\n",
    "### Answer\n",
    "\n",
    "Pending"
   ]
  },
  {
   "cell_type": "markdown",
   "metadata": {},
   "source": [
    "## Question 3\n",
    "\n",
    "### Can I ......................?\n",
    "\n",
    "\n",
    "### Answer\n",
    "\n",
    "\n"
   ]
  },
  {
   "cell_type": "markdown",
   "metadata": {},
   "source": [
    "## Question 3\n",
    "\n",
    "### Can I ......................?\n",
    "\n",
    "\n",
    "### Answer\n",
    "\n",
    "\n"
   ]
  },
  {
   "cell_type": "code",
   "execution_count": null,
   "metadata": {},
   "outputs": [],
   "source": []
  }
 ],
 "metadata": {
  "kernelspec": {
   "display_name": "Python 3",
   "language": "python",
   "name": "python3"
  },
  "language_info": {
   "codemirror_mode": {
    "name": "ipython",
    "version": 3
   },
   "file_extension": ".py",
   "mimetype": "text/x-python",
   "name": "python",
   "nbconvert_exporter": "python",
   "pygments_lexer": "ipython3",
   "version": "3.6.4"
  }
 },
 "nbformat": 4,
 "nbformat_minor": 2
}
